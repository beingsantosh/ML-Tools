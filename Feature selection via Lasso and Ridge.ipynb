{
 "cells": [
  {
   "cell_type": "markdown",
   "metadata": {},
   "source": [
    "## Avoiding overfitting with the help of regularization. \n",
    "## It is just to penalize the weights in case of overfitting situation"
   ]
  },
  {
   "cell_type": "code",
   "execution_count": 18,
   "metadata": {},
   "outputs": [],
   "source": [
    "import pandas as pd\n",
    "import numpy as np\n",
    "import seaborn as sns\n",
    "import matplotlib.pyplot as plt\n",
    "\n",
    "from sklearn.model_selection import train_test_split\n",
    "from sklearn.feature_selection import SelectFromModel\n",
    "from sklearn.linear_model import LogisticRegression, Lasso, Ridge\n",
    "from sklearn.preprocessing import StandardScaler\n",
    "from sklearn.datasets import make_classification\n"
   ]
  },
  {
   "cell_type": "code",
   "execution_count": 4,
   "metadata": {},
   "outputs": [],
   "source": [
    "%config Completer.use_jedi = False"
   ]
  },
  {
   "cell_type": "code",
   "execution_count": 190,
   "metadata": {},
   "outputs": [],
   "source": [
    "X,y = make_classification(n_samples= 500)"
   ]
  },
  {
   "cell_type": "code",
   "execution_count": 191,
   "metadata": {},
   "outputs": [
    {
     "data": {
      "text/plain": [
       "(500, 20)"
      ]
     },
     "execution_count": 191,
     "metadata": {},
     "output_type": "execute_result"
    }
   ],
   "source": [
    "X.shape"
   ]
  },
  {
   "cell_type": "code",
   "execution_count": 201,
   "metadata": {},
   "outputs": [],
   "source": [
    "X_train, X_test, y_train, y_test = train_test_split(X, y, test_size=0.33, random_state=42)"
   ]
  },
  {
   "cell_type": "code",
   "execution_count": 202,
   "metadata": {},
   "outputs": [],
   "source": [
    "sc = StandardScaler()\n",
    "# X_train =sc.fit_transform(X_train)"
   ]
  },
  {
   "cell_type": "code",
   "execution_count": 203,
   "metadata": {},
   "outputs": [
    {
     "data": {
      "text/plain": [
       "3.149190097566348"
      ]
     },
     "execution_count": 203,
     "metadata": {},
     "output_type": "execute_result"
    }
   ],
   "source": [
    "X_train.max()"
   ]
  },
  {
   "cell_type": "code",
   "execution_count": 204,
   "metadata": {},
   "outputs": [],
   "source": [
    "# sns.histplot(X_train)"
   ]
  },
  {
   "cell_type": "code",
   "execution_count": 205,
   "metadata": {},
   "outputs": [],
   "source": [
    "# sns.pairplot(pd.DataFrame(X_train))"
   ]
  },
  {
   "cell_type": "code",
   "execution_count": 206,
   "metadata": {},
   "outputs": [
    {
     "data": {
      "text/plain": [
       "<Figure size 1440x1152 with 0 Axes>"
      ]
     },
     "execution_count": 206,
     "metadata": {},
     "output_type": "execute_result"
    },
    {
     "data": {
      "text/plain": [
       "<Figure size 1440x1152 with 0 Axes>"
      ]
     },
     "metadata": {},
     "output_type": "display_data"
    }
   ],
   "source": [
    "plt.figure(figsize=(20,16))\n",
    "# sns.heatmap(pd.DataFrame(X_train).corr(), annot=True, cmap=plt.cm.CMRmap_r)"
   ]
  },
  {
   "cell_type": "code",
   "execution_count": 215,
   "metadata": {},
   "outputs": [
    {
     "data": {
      "text/plain": [
       "SelectFromModel(estimator=LogisticRegression(C=1, penalty='l1',\n",
       "                                             solver='liblinear'))"
      ]
     },
     "execution_count": 215,
     "metadata": {},
     "output_type": "execute_result"
    }
   ],
   "source": [
    "sel_ = SelectFromModel(LogisticRegression(solver='liblinear',C=1, penalty='l1'))\n",
    "sel_.fit(X_train, y_train)"
   ]
  },
  {
   "cell_type": "code",
   "execution_count": 216,
   "metadata": {},
   "outputs": [],
   "source": [
    "imp_col_name = sel_.get_support(indices=True)\n"
   ]
  },
  {
   "cell_type": "code",
   "execution_count": 217,
   "metadata": {},
   "outputs": [
    {
     "data": {
      "text/plain": [
       "(11,)"
      ]
     },
     "execution_count": 217,
     "metadata": {},
     "output_type": "execute_result"
    }
   ],
   "source": [
    "imp_col_name.shape"
   ]
  },
  {
   "cell_type": "code",
   "execution_count": 218,
   "metadata": {},
   "outputs": [],
   "source": [
    "df=pd.DataFrame(X_train, columns=[list(range(20))])"
   ]
  },
  {
   "cell_type": "code",
   "execution_count": 219,
   "metadata": {},
   "outputs": [
    {
     "data": {
      "text/html": [
       "<div>\n",
       "<style scoped>\n",
       "    .dataframe tbody tr th:only-of-type {\n",
       "        vertical-align: middle;\n",
       "    }\n",
       "\n",
       "    .dataframe tbody tr th {\n",
       "        vertical-align: top;\n",
       "    }\n",
       "\n",
       "    .dataframe thead tr th {\n",
       "        text-align: left;\n",
       "    }\n",
       "</style>\n",
       "<table border=\"1\" class=\"dataframe\">\n",
       "  <thead>\n",
       "    <tr>\n",
       "      <th></th>\n",
       "      <th>0</th>\n",
       "      <th>1</th>\n",
       "      <th>2</th>\n",
       "      <th>5</th>\n",
       "      <th>6</th>\n",
       "      <th>7</th>\n",
       "      <th>9</th>\n",
       "      <th>11</th>\n",
       "      <th>13</th>\n",
       "      <th>15</th>\n",
       "      <th>16</th>\n",
       "    </tr>\n",
       "  </thead>\n",
       "  <tbody>\n",
       "    <tr>\n",
       "      <th>0</th>\n",
       "      <td>0.132507</td>\n",
       "      <td>1.691999</td>\n",
       "      <td>-0.645568</td>\n",
       "      <td>-0.849429</td>\n",
       "      <td>-1.128864</td>\n",
       "      <td>0.706266</td>\n",
       "      <td>-0.161962</td>\n",
       "      <td>0.025626</td>\n",
       "      <td>-0.816292</td>\n",
       "      <td>0.753493</td>\n",
       "      <td>-0.993679</td>\n",
       "    </tr>\n",
       "    <tr>\n",
       "      <th>1</th>\n",
       "      <td>0.134955</td>\n",
       "      <td>-1.265871</td>\n",
       "      <td>0.131245</td>\n",
       "      <td>-1.638272</td>\n",
       "      <td>2.087792</td>\n",
       "      <td>1.072043</td>\n",
       "      <td>-0.508803</td>\n",
       "      <td>-0.213119</td>\n",
       "      <td>0.533679</td>\n",
       "      <td>0.312397</td>\n",
       "      <td>0.620018</td>\n",
       "    </tr>\n",
       "    <tr>\n",
       "      <th>2</th>\n",
       "      <td>0.809314</td>\n",
       "      <td>0.373763</td>\n",
       "      <td>1.711116</td>\n",
       "      <td>0.631211</td>\n",
       "      <td>0.895225</td>\n",
       "      <td>-0.114382</td>\n",
       "      <td>-0.231178</td>\n",
       "      <td>-0.948654</td>\n",
       "      <td>-0.332790</td>\n",
       "      <td>0.652003</td>\n",
       "      <td>0.225865</td>\n",
       "    </tr>\n",
       "    <tr>\n",
       "      <th>3</th>\n",
       "      <td>1.023654</td>\n",
       "      <td>-0.291412</td>\n",
       "      <td>0.845602</td>\n",
       "      <td>1.021179</td>\n",
       "      <td>1.566061</td>\n",
       "      <td>-0.319709</td>\n",
       "      <td>0.057509</td>\n",
       "      <td>0.495457</td>\n",
       "      <td>-0.201105</td>\n",
       "      <td>0.203963</td>\n",
       "      <td>0.879518</td>\n",
       "    </tr>\n",
       "    <tr>\n",
       "      <th>4</th>\n",
       "      <td>0.743954</td>\n",
       "      <td>0.557957</td>\n",
       "      <td>0.533784</td>\n",
       "      <td>-0.294640</td>\n",
       "      <td>1.543986</td>\n",
       "      <td>-0.294626</td>\n",
       "      <td>2.216717</td>\n",
       "      <td>1.933262</td>\n",
       "      <td>1.035652</td>\n",
       "      <td>0.099407</td>\n",
       "      <td>2.182317</td>\n",
       "    </tr>\n",
       "  </tbody>\n",
       "</table>\n",
       "</div>"
      ],
      "text/plain": [
       "         0         1         2         5         6         7         9   \\\n",
       "0  0.132507  1.691999 -0.645568 -0.849429 -1.128864  0.706266 -0.161962   \n",
       "1  0.134955 -1.265871  0.131245 -1.638272  2.087792  1.072043 -0.508803   \n",
       "2  0.809314  0.373763  1.711116  0.631211  0.895225 -0.114382 -0.231178   \n",
       "3  1.023654 -0.291412  0.845602  1.021179  1.566061 -0.319709  0.057509   \n",
       "4  0.743954  0.557957  0.533784 -0.294640  1.543986 -0.294626  2.216717   \n",
       "\n",
       "         11        13        15        16  \n",
       "0  0.025626 -0.816292  0.753493 -0.993679  \n",
       "1 -0.213119  0.533679  0.312397  0.620018  \n",
       "2 -0.948654 -0.332790  0.652003  0.225865  \n",
       "3  0.495457 -0.201105  0.203963  0.879518  \n",
       "4  1.933262  1.035652  0.099407  2.182317  "
      ]
     },
     "execution_count": 219,
     "metadata": {},
     "output_type": "execute_result"
    }
   ],
   "source": [
    "df[imp_col_name].head()"
   ]
  },
  {
   "cell_type": "code",
   "execution_count": 220,
   "metadata": {},
   "outputs": [
    {
     "data": {
      "text/plain": [
       "array([[-0.05400855, -0.21209518, -0.05644918,  0.        ,  0.        ,\n",
       "         0.02569446,  3.99388757, -0.19699368,  0.        ,  0.29143975,\n",
       "         0.        ,  0.23909586,  0.        , -0.10737304,  0.        ,\n",
       "         0.12457861,  0.03728745,  0.        ,  0.        ,  0.        ]])"
      ]
     },
     "execution_count": 220,
     "metadata": {},
     "output_type": "execute_result"
    }
   ],
   "source": [
    "sel_.estimator_.coef_"
   ]
  },
  {
   "cell_type": "code",
   "execution_count": 221,
   "metadata": {},
   "outputs": [],
   "source": [
    "# there are multiple features whose coefficient are made to zero."
   ]
  },
  {
   "cell_type": "code",
   "execution_count": null,
   "metadata": {},
   "outputs": [
    {
     "data": {
      "text/plain": [
       "<matplotlib.axes._subplots.AxesSubplot at 0x2020a911b08>"
      ]
     },
     "execution_count": 222,
     "metadata": {},
     "output_type": "execute_result"
    }
   ],
   "source": [
    "# all features which have less impact on model either less informative or redundant\n",
    "\n",
    "df.drop(columns=imp_col_name).plot(kind='hist', bins= 100)"
   ]
  },
  {
   "cell_type": "code",
   "execution_count": 186,
   "metadata": {},
   "outputs": [
    {
     "data": {
      "text/plain": [
       "(165, 16)"
      ]
     },
     "execution_count": 186,
     "metadata": {},
     "output_type": "execute_result"
    }
   ],
   "source": [
    "sel_.transform(X_test).shape"
   ]
  },
  {
   "cell_type": "code",
   "execution_count": 185,
   "metadata": {},
   "outputs": [
    {
     "data": {
      "text/plain": [
       "(165, 20)"
      ]
     },
     "execution_count": 185,
     "metadata": {},
     "output_type": "execute_result"
    }
   ],
   "source": [
    "X_test.shape"
   ]
  },
  {
   "cell_type": "code",
   "execution_count": null,
   "metadata": {},
   "outputs": [],
   "source": []
  }
 ],
 "metadata": {
  "kernelspec": {
   "display_name": "Python 3",
   "language": "python",
   "name": "python3"
  },
  "language_info": {
   "codemirror_mode": {
    "name": "ipython",
    "version": 3
   },
   "file_extension": ".py",
   "mimetype": "text/x-python",
   "name": "python",
   "nbconvert_exporter": "python",
   "pygments_lexer": "ipython3",
   "version": "3.7.9"
  }
 },
 "nbformat": 4,
 "nbformat_minor": 4
}
