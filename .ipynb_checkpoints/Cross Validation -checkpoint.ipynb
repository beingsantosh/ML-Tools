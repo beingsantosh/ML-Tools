{
 "cells": [
  {
   "cell_type": "markdown",
   "metadata": {},
   "source": [
    "# This notebook to understand the concept of cross validation and its python code"
   ]
  },
  {
   "cell_type": "code",
   "execution_count": 29,
   "metadata": {},
   "outputs": [],
   "source": [
    "data = ['abc', 'shsjdf', 'sssd', 0.4, 0.5]"
   ]
  },
  {
   "cell_type": "code",
   "execution_count": 30,
   "metadata": {},
   "outputs": [],
   "source": [
    "from sklearn.model_selection import KFold"
   ]
  },
  {
   "cell_type": "code",
   "execution_count": 31,
   "metadata": {},
   "outputs": [],
   "source": [
    "%config Completer.use_jedi = False"
   ]
  },
  {
   "cell_type": "code",
   "execution_count": 32,
   "metadata": {},
   "outputs": [],
   "source": [
    "Kfold = KFold(n_splits=5, shuffle=True, random_state=1)"
   ]
  },
  {
   "cell_type": "code",
   "execution_count": 33,
   "metadata": {},
   "outputs": [
    {
     "name": "stdout",
     "output_type": "stream",
     "text": [
      "[0 1 3 4] [2]\n",
      "[0 2 3 4] [1]\n",
      "[0 1 2 3] [4]\n",
      "[1 2 3 4] [0]\n",
      "[0 1 2 4] [3]\n"
     ]
    }
   ],
   "source": [
    "for train, test in Kfold.split(data):\n",
    "    print (train,test)"
   ]
  },
  {
   "cell_type": "code",
   "execution_count": 35,
   "metadata": {},
   "outputs": [
    {
     "name": "stdout",
     "output_type": "stream",
     "text": [
      "Ideal: 0.840\n",
      "> folds=2, accuracy=0.740 (0.700,0.780)\n",
      "> folds=3, accuracy=0.749 (0.697,0.824)\n",
      "> folds=4, accuracy=0.790 (0.640,0.920)\n",
      "> folds=5, accuracy=0.810 (0.600,0.950)\n",
      "> folds=6, accuracy=0.820 (0.688,0.941)\n",
      "> folds=7, accuracy=0.799 (0.571,1.000)\n",
      "> folds=8, accuracy=0.811 (0.385,0.923)\n",
      "> folds=9, accuracy=0.829 (0.636,1.000)\n",
      "> folds=10, accuracy=0.850 (0.600,1.000)\n",
      "> folds=11, accuracy=0.829 (0.667,1.000)\n",
      "> folds=12, accuracy=0.785 (0.250,1.000)\n",
      "> folds=13, accuracy=0.839 (0.571,1.000)\n",
      "> folds=14, accuracy=0.807 (0.429,1.000)\n",
      "> folds=15, accuracy=0.821 (0.571,1.000)\n",
      "> folds=16, accuracy=0.827 (0.500,1.000)\n",
      "> folds=17, accuracy=0.816 (0.600,1.000)\n",
      "> folds=18, accuracy=0.831 (0.600,1.000)\n",
      "> folds=19, accuracy=0.826 (0.600,1.000)\n",
      "> folds=20, accuracy=0.830 (0.600,1.000)\n",
      "> folds=21, accuracy=0.814 (0.500,1.000)\n",
      "> folds=22, accuracy=0.820 (0.500,1.000)\n",
      "> folds=23, accuracy=0.802 (0.250,1.000)\n",
      "> folds=24, accuracy=0.804 (0.250,1.000)\n",
      "> folds=25, accuracy=0.810 (0.250,1.000)\n",
      "> folds=26, accuracy=0.804 (0.250,1.000)\n",
      "> folds=27, accuracy=0.818 (0.250,1.000)\n",
      "> folds=28, accuracy=0.821 (0.250,1.000)\n",
      "> folds=29, accuracy=0.822 (0.250,1.000)\n",
      "> folds=30, accuracy=0.822 (0.333,1.000)\n"
     ]
    },
    {
     "data": {
      "image/png": "[encoded data removed]",
      "text/plain": [
       "<Figure size 432x288 with 1 Axes>"
      ]
     },
     "metadata": {
      "needs_background": "light"
     },
     "output_type": "display_data"
    }
   ],
   "source": [
    "# Credit - https://machinelearningmastery.com/\n",
    "\n",
    "# sensitivity analysis of k in k-fold cross-validation\n",
    "from numpy import mean\n",
    "from sklearn.datasets import make_classification\n",
    "from sklearn.model_selection import LeaveOneOut\n",
    "from sklearn.model_selection import KFold\n",
    "from sklearn.model_selection import cross_val_score\n",
    "from sklearn.linear_model import LogisticRegression\n",
    "from matplotlib import pyplot\n",
    "\n",
    "# create the dataset\n",
    "def get_dataset(n_samples=100):\n",
    "    X, y = make_classification(n_samples=n_samples, n_features=20, n_informative=15, n_redundant=5, random_state=1)\n",
    "    return X, y\n",
    "\n",
    "# retrieve the model to be evaluate\n",
    "def get_model():\n",
    "    model = LogisticRegression()\n",
    "    return model\n",
    "\n",
    "# evaluate the model using a given test condition\n",
    "def evaluate_model(cv):\n",
    "    # get the dataset\n",
    "    X, y = get_dataset()\n",
    "    # get the model\n",
    "    model = get_model()\n",
    "    # evaluate the model\n",
    "    scores = cross_val_score(model, X, y, scoring='accuracy', cv=cv, n_jobs=-1)\n",
    "    # return scores\n",
    "    return mean(scores), scores.min(), scores.max()\n",
    "\n",
    "# calculate the ideal test condition\n",
    "ideal, _, _ = evaluate_model(LeaveOneOut())\n",
    "print('Ideal: %.3f' % ideal)\n",
    "# define folds to test\n",
    "folds = range(2,31)\n",
    "# record mean and min/max of each set of results\n",
    "means, mins, maxs = list(),list(),list()\n",
    "# evaluate each k value\n",
    "for k in folds:\n",
    "    # define the test condition\n",
    "    cv = KFold(n_splits=k, shuffle=True, random_state=1)\n",
    "    # evaluate k value\n",
    "    k_mean, k_min, k_max = evaluate_model(cv)\n",
    "    # report performance\n",
    "    print('> folds=%d, accuracy=%.3f (%.3f,%.3f)' % (k, k_mean, k_min, k_max))\n",
    "    # store mean accuracy\n",
    "    means.append(k_mean)\n",
    "    # store min and max relative to the mean\n",
    "    mins.append(k_mean - k_min)\n",
    "    maxs.append(k_max - k_mean)\n",
    "# line plot of k mean values with min/max error bars\n",
    "pyplot.errorbar(folds, means, yerr=[mins, maxs], fmt='o')\n",
    "# plot the ideal case in a separate color\n",
    "pyplot.plot(folds, [ideal for _ in range(len(folds))], color='r')\n",
    "# show the plot\n",
    "pyplot.show()"
   ]
  },
  {
   "cell_type": "code",
   "execution_count": null,
   "metadata": {},
   "outputs": [],
   "source": []
  },
  {
   "cell_type": "code",
   "execution_count": null,
   "metadata": {},
   "outputs": [],
   "source": []
  }
 ],
 "metadata": {
  "kernelspec": {
   "display_name": "Python 3",
   "language": "python",
   "name": "python3"
  },
  "language_info": {
   "codemirror_mode": {
    "name": "ipython",
    "version": 3
   },
   "file_extension": ".py",
   "mimetype": "text/x-python",
   "name": "python",
   "nbconvert_exporter": "python",
   "pygments_lexer": "ipython3",
   "version": "3.7.9"
  }
 },
 "nbformat": 4,
 "nbformat_minor": 4
}
