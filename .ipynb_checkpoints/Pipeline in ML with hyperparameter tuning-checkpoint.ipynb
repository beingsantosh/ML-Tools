{
 "cells": [
  {
   "cell_type": "code",
   "execution_count": 48,
   "metadata": {},
   "outputs": [],
   "source": [
    "from sklearn.datasets import load_iris\n",
    "from sklearn.preprocessing import StandardScaler\n",
    "from sklearn.model_selection import train_test_split\n",
    "from sklearn.decomposition import PCA\n",
    "from sklearn.pipeline import Pipeline\n",
    "from sklearn.linear_model import LogisticRegression\n",
    "from sklearn.tree import DecisionTreeClassifier\n",
    "from sklearn.ensemble import RandomForestClassifier\n",
    "from warnings import filterwarnings\n",
    "filterwarnings('ignore')"
   ]
  },
  {
   "cell_type": "code",
   "execution_count": 16,
   "metadata": {},
   "outputs": [],
   "source": [
    "iris = load_iris()"
   ]
  },
  {
   "cell_type": "code",
   "execution_count": 19,
   "metadata": {},
   "outputs": [
    {
     "data": {
      "text/plain": [
       "(150, 4)"
      ]
     },
     "execution_count": 19,
     "metadata": {},
     "output_type": "execute_result"
    }
   ],
   "source": [
    "iris.data.shape"
   ]
  },
  {
   "cell_type": "code",
   "execution_count": 20,
   "metadata": {},
   "outputs": [],
   "source": [
    "X_train, X_test, y_train, y_test = train_test_split(iris.data, iris.target, test_size=0.33, random_state=42)"
   ]
  },
  {
   "cell_type": "code",
   "execution_count": 26,
   "metadata": {},
   "outputs": [
    {
     "data": {
      "text/plain": [
       "((100, 4), (50, 4), (100,), (50,))"
      ]
     },
     "execution_count": 26,
     "metadata": {},
     "output_type": "execute_result"
    }
   ],
   "source": [
    "X_train.shape, X_test.shape, y_train.shape, y_test.shape"
   ]
  },
  {
   "cell_type": "code",
   "execution_count": 38,
   "metadata": {},
   "outputs": [],
   "source": [
    "# pipeline hadles below task\n",
    "# 1) standard scalar \n",
    "# 2) PCA\n",
    "# 3) classifier"
   ]
  },
  {
   "cell_type": "code",
   "execution_count": 39,
   "metadata": {},
   "outputs": [],
   "source": [
    "p_lr = Pipeline( [ ('scalar1', StandardScaler()),\n",
    "                   ('pca1', PCA(n_components=2)),\n",
    "                   ('lr_classifier',LogisticRegression() )])"
   ]
  },
  {
   "cell_type": "code",
   "execution_count": 41,
   "metadata": {},
   "outputs": [],
   "source": [
    "p_dt = Pipeline( [ ('scalar2', StandardScaler()),\n",
    "                   ('pca2', PCA(n_components=2)),\n",
    "                   ('dt_classifier',DecisionTreeClassifier() )])"
   ]
  },
  {
   "cell_type": "code",
   "execution_count": 42,
   "metadata": {},
   "outputs": [],
   "source": [
    "p_rf = Pipeline( [ ('scalar3', StandardScaler()),\n",
    "                   ('pca3', PCA(n_components=2)),\n",
    "                   ('rf_classifier',RandomForestClassifier() )])"
   ]
  },
  {
   "cell_type": "code",
   "execution_count": 43,
   "metadata": {},
   "outputs": [],
   "source": [
    "# list of pipelines\n",
    "pipelines = [p_lr,p_dt,p_rf]"
   ]
  },
  {
   "cell_type": "code",
   "execution_count": 44,
   "metadata": {},
   "outputs": [],
   "source": [
    "pipeline_dict={1:'Logistic Regression', 2:'Decision Tree', 3:'Random Forest'}"
   ]
  },
  {
   "cell_type": "code",
   "execution_count": 52,
   "metadata": {},
   "outputs": [
    {
     "data": {
      "text/plain": [
       "0.84"
      ]
     },
     "execution_count": 52,
     "metadata": {},
     "output_type": "execute_result"
    }
   ],
   "source": [
    "# execute one pipeline first\n",
    "\n",
    "p_lr.fit(X_train,y_train)\n",
    "p_lr.score(X_test,y_test)"
   ]
  },
  {
   "cell_type": "code",
   "execution_count": 56,
   "metadata": {},
   "outputs": [
    {
     "name": "stdout",
     "output_type": "stream",
     "text": [
      "Logistic Regression: accuracy score is 0.84\n",
      "Decision Tree: accuracy score is 0.9\n",
      "Random Forest: accuracy score is 0.92\n"
     ]
    }
   ],
   "source": [
    "# execution of multiple pipeline for each ML model\n",
    "for i,pipe in enumerate(pipelines):\n",
    "    pipe.fit(X_train,y_train)\n",
    "    print(f'{pipeline_dict[i+1]}: accuracy score is {pipe.score(X_test,y_test)}')"
   ]
  },
  {
   "cell_type": "markdown",
   "metadata": {},
   "source": [
    "### done !! Pipeline helps in organising the complex code in much efficient way\n",
    "\n",
    "\n",
    "### Now, lets implementing the hyperparameter tuning via pipeline"
   ]
  },
  {
   "cell_type": "code",
   "execution_count": 57,
   "metadata": {},
   "outputs": [],
   "source": [
    "from sklearn.model_selection import GridSearchCV"
   ]
  },
  {
   "cell_type": "code",
   "execution_count": 72,
   "metadata": {},
   "outputs": [],
   "source": [
    "# grid param is the list of dictionaries for each classifier alone.\n",
    "# each component(parameters) for pipeline can also be modified in below grid\n",
    "# there should be double undescore after each classifier name and than hyperparameter name.\n",
    "\n",
    "grid_param = [{\n",
    "                'pca1__svd_solver' : ['auto', 'full', 'arpack', 'randomized']\n",
    "                \n",
    "                }]"
   ]
  },
  {
   "cell_type": "code",
   "execution_count": 59,
   "metadata": {},
   "outputs": [],
   "source": [
    "g=GridSearchCV(p_lr,grid_param, cv= None, verbose=0, n_jobs=-1)"
   ]
  },
  {
   "cell_type": "code",
   "execution_count": 60,
   "metadata": {},
   "outputs": [],
   "source": [
    "bm= g.fit(X_train,y_train)"
   ]
  },
  {
   "cell_type": "code",
   "execution_count": 61,
   "metadata": {},
   "outputs": [
    {
     "data": {
      "text/plain": [
       "Pipeline(memory=None,\n",
       "     steps=[('scalar1', StandardScaler(copy=True, with_mean=True, with_std=True)), ('pca1', PCA(copy=True, iterated_power='auto', n_components=2, random_state=None,\n",
       "  svd_solver='auto', tol=0.0, whiten=False)), ('lr_classifier', LogisticRegression(C=1.0, class_weight=None, dual=False, fit_intercept=True,\n",
       "          intercept_scaling=1, max_iter=100, multi_class='warn',\n",
       "          n_jobs=None, penalty='l2', random_state=None, solver='warn',\n",
       "          tol=0.0001, verbose=0, warm_start=False))])"
      ]
     },
     "execution_count": 61,
     "metadata": {},
     "output_type": "execute_result"
    }
   ],
   "source": [
    "bm.best_estimator_"
   ]
  },
  {
   "cell_type": "code",
   "execution_count": 62,
   "metadata": {},
   "outputs": [
    {
     "data": {
      "text/plain": [
       "{'pca1__svd_solver': 'auto'}"
      ]
     },
     "execution_count": 62,
     "metadata": {},
     "output_type": "execute_result"
    }
   ],
   "source": [
    "bm.best_params_"
   ]
  },
  {
   "cell_type": "code",
   "execution_count": 63,
   "metadata": {},
   "outputs": [
    {
     "data": {
      "text/plain": [
       "0.81"
      ]
     },
     "execution_count": 63,
     "metadata": {},
     "output_type": "execute_result"
    }
   ],
   "source": [
    "bm.best_score_"
   ]
  },
  {
   "cell_type": "code",
   "execution_count": 64,
   "metadata": {},
   "outputs": [
    {
     "data": {
      "text/plain": [
       "{'mean_fit_time': array([0.38562584, 0.30285732, 0.33310827, 0.18217977]),\n",
       " 'std_fit_time': array([0.04113137, 0.21764305, 0.07467493, 0.12151317]),\n",
       " 'mean_score_time': array([0.00133117, 0.00166146, 0.00133038, 0.00099723]),\n",
       " 'std_score_time': array([4.71988598e-04, 9.40605287e-04, 4.70358991e-04, 5.94720425e-07]),\n",
       " 'param_pca1__svd_solver': masked_array(data=['auto', 'full', 'arpack', 'randomized'],\n",
       "              mask=[False, False, False, False],\n",
       "        fill_value='?',\n",
       "             dtype=object),\n",
       " 'params': [{'pca1__svd_solver': 'auto'},\n",
       "  {'pca1__svd_solver': 'full'},\n",
       "  {'pca1__svd_solver': 'arpack'},\n",
       "  {'pca1__svd_solver': 'randomized'}],\n",
       " 'split0_test_score': array([0.91428571, 0.91428571, 0.91428571, 0.91428571]),\n",
       " 'split1_test_score': array([0.72727273, 0.72727273, 0.72727273, 0.72727273]),\n",
       " 'split2_test_score': array([0.78125, 0.78125, 0.78125, 0.78125]),\n",
       " 'mean_test_score': array([0.81, 0.81, 0.81, 0.81]),\n",
       " 'std_test_score': array([0.07955742, 0.07955742, 0.07955742, 0.07955742]),\n",
       " 'rank_test_score': array([1, 1, 1, 1]),\n",
       " 'split0_train_score': array([0.86153846, 0.86153846, 0.86153846, 0.86153846]),\n",
       " 'split1_train_score': array([0.88059701, 0.88059701, 0.88059701, 0.88059701]),\n",
       " 'split2_train_score': array([0.86764706, 0.86764706, 0.86764706, 0.86764706]),\n",
       " 'mean_train_score': array([0.86992751, 0.86992751, 0.86992751, 0.86992751]),\n",
       " 'std_train_score': array([0.00794596, 0.00794596, 0.00794596, 0.00794596])}"
      ]
     },
     "execution_count": 64,
     "metadata": {},
     "output_type": "execute_result"
    }
   ],
   "source": [
    "bm.cv_results_"
   ]
  },
  {
   "cell_type": "code",
   "execution_count": 67,
   "metadata": {},
   "outputs": [],
   "source": [
    "y_pred=bm.predict(X_test)"
   ]
  },
  {
   "cell_type": "code",
   "execution_count": 68,
   "metadata": {},
   "outputs": [],
   "source": [
    "from sklearn.metrics import accuracy_score, confusion_matrix"
   ]
  },
  {
   "cell_type": "code",
   "execution_count": 69,
   "metadata": {},
   "outputs": [
    {
     "data": {
      "text/plain": [
       "0.84"
      ]
     },
     "execution_count": 69,
     "metadata": {},
     "output_type": "execute_result"
    }
   ],
   "source": [
    "accuracy_score(y_test, y_pred)"
   ]
  },
  {
   "cell_type": "code",
   "execution_count": 70,
   "metadata": {},
   "outputs": [
    {
     "data": {
      "text/plain": [
       "array([[19,  0,  0],\n",
       "       [ 0,  8,  7],\n",
       "       [ 0,  1, 15]], dtype=int64)"
      ]
     },
     "execution_count": 70,
     "metadata": {},
     "output_type": "execute_result"
    }
   ],
   "source": [
    "confusion_matrix(y_test, y_pred)"
   ]
  },
  {
   "cell_type": "markdown",
   "metadata": {},
   "source": [
    "## done !! with tuning."
   ]
  },
  {
   "cell_type": "code",
   "execution_count": null,
   "metadata": {},
   "outputs": [],
   "source": []
  }
 ],
 "metadata": {
  "kernelspec": {
   "display_name": "Python 3",
   "language": "python",
   "name": "python3"
  },
  "language_info": {
   "codemirror_mode": {
    "name": "ipython",
    "version": 3
   },
   "file_extension": ".py",
   "mimetype": "text/x-python",
   "name": "python",
   "nbconvert_exporter": "python",
   "pygments_lexer": "ipython3",
   "version": "3.7.7"
  }
 },
 "nbformat": 4,
 "nbformat_minor": 4
}
