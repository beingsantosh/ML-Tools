{
 "cells": [
  {
   "cell_type": "code",
   "execution_count": 1,
   "metadata": {},
   "outputs": [],
   "source": [
    "import tensorflow as tf"
   ]
  },
  {
   "cell_type": "code",
   "execution_count": 2,
   "metadata": {},
   "outputs": [
    {
     "data": {
      "text/plain": [
       "[PhysicalDevice(name='/physical_device:CPU:0', device_type='CPU'),\n",
       " PhysicalDevice(name='/physical_device:GPU:0', device_type='GPU')]"
      ]
     },
     "execution_count": 2,
     "metadata": {},
     "output_type": "execute_result"
    }
   ],
   "source": [
    "tf.config.experimental.list_physical_devices()"
   ]
  },
  {
   "cell_type": "code",
   "execution_count": 3,
   "metadata": {},
   "outputs": [
    {
     "name": "stderr",
     "output_type": "stream",
     "text": [
      "C:\\Users\\Mein Pc\\.conda\\envs\\CUDA-GPU\\lib\\site-packages\\IPython\\core\\interactiveshell.py:3418: UserWarning: Config option `jedi_use` not recognized by `IPCompleter`.\n",
      "  exec(code_obj, self.user_global_ns, self.user_ns)\n"
     ]
    }
   ],
   "source": [
    "%config Completer.jedi_use = False"
   ]
  },
  {
   "cell_type": "code",
   "execution_count": 3,
   "metadata": {},
   "outputs": [
    {
     "data": {
      "text/plain": [
       "True"
      ]
     },
     "execution_count": 3,
     "metadata": {},
     "output_type": "execute_result"
    }
   ],
   "source": [
    "tf.test.is_built_with_cuda()\n"
   ]
  },
  {
   "cell_type": "code",
   "execution_count": 4,
   "metadata": {},
   "outputs": [
    {
     "name": "stdout",
     "output_type": "stream",
     "text": [
      "WARNING:tensorflow:From <ipython-input-4-17bb7203622b>:1: is_gpu_available (from tensorflow.python.framework.test_util) is deprecated and will be removed in a future version.\n",
      "Instructions for updating:\n",
      "Use `tf.config.list_physical_devices('GPU')` instead.\n"
     ]
    },
    {
     "data": {
      "text/plain": [
       "True"
      ]
     },
     "execution_count": 4,
     "metadata": {},
     "output_type": "execute_result"
    }
   ],
   "source": [
    "tf.test.is_gpu_available()"
   ]
  },
  {
   "cell_type": "code",
   "execution_count": 5,
   "metadata": {},
   "outputs": [
    {
     "name": "stdout",
     "output_type": "stream",
     "text": [
      "Thu Dec 17 20:32:32 2020       \n",
      "+-----------------------------------------------------------------------------+\n",
      "| NVIDIA-SMI 460.89       Driver Version: 460.89       CUDA Version: 11.2     |\n",
      "|-------------------------------+----------------------+----------------------+\n",
      "| GPU  Name            TCC/WDDM | Bus-Id        Disp.A | Volatile Uncorr. ECC |\n",
      "| Fan  Temp  Perf  Pwr:Usage/Cap|         Memory-Usage | GPU-Util  Compute M. |\n",
      "|                               |                      |               MIG M. |\n",
      "|===============================+======================+======================|\n",
      "|   0  GeForce MX230      WDDM  | 00000000:01:00.0 Off |                  N/A |\n",
      "| N/A   40C    P3    N/A /  N/A |    178MiB /  2048MiB |      1%      Default |\n",
      "|                               |                      |                  N/A |\n",
      "+-------------------------------+----------------------+----------------------+\n",
      "                                                                               \n",
      "+-----------------------------------------------------------------------------+\n",
      "| Processes:                                                                  |\n",
      "|  GPU   GI   CI        PID   Type   Process name                  GPU Memory |\n",
      "|        ID   ID                                                   Usage      |\n",
      "|=============================================================================|\n",
      "|    0   N/A  N/A      8408      C   ...\\envs\\CUDA-GPU\\python.exe    N/A      |\n",
      "+-----------------------------------------------------------------------------+\n"
     ]
    }
   ],
   "source": [
    "!nvidia-smi"
   ]
  },
  {
   "cell_type": "code",
   "execution_count": 15,
   "metadata": {},
   "outputs": [
    {
     "name": "stdout",
     "output_type": "stream",
     "text": [
      "Python 3.8.5\n"
     ]
    }
   ],
   "source": [
    "!python --version"
   ]
  },
  {
   "cell_type": "code",
   "execution_count": 7,
   "metadata": {},
   "outputs": [
    {
     "name": "stdout",
     "output_type": "stream",
     "text": [
      "Collecting cudf\n",
      "  Downloading cudf-0.6.1.post1.tar.gz (1.1 kB)\n",
      "Building wheels for collected packages: cudf\n",
      "  Building wheel for cudf (setup.py): started\n",
      "  Building wheel for cudf (setup.py): finished with status 'error'\n",
      "  Running setup.py clean for cudf\n",
      "Failed to build cudf\n",
      "Installing collected packages: cudf\n",
      "    Running setup.py install for cudf: started\n",
      "    Running setup.py install for cudf: finished with status 'error'\n"
     ]
    },
    {
     "name": "stderr",
     "output_type": "stream",
     "text": [
      "  ERROR: Command errored out with exit status 1:\n",
      "   command: 'C:\\Users\\Mein Pc\\.conda\\envs\\CUDA-GPU\\python.exe' -u -c 'import sys, setuptools, tokenize; sys.argv[0] = '\"'\"'C:\\\\Users\\\\Mein Pc\\\\AppData\\\\Local\\\\Temp\\\\pip-install-m0sja0vq\\\\cudf_4947435a948141df99a44ddfb03348a9\\\\setup.py'\"'\"'; __file__='\"'\"'C:\\\\Users\\\\Mein Pc\\\\AppData\\\\Local\\\\Temp\\\\pip-install-m0sja0vq\\\\cudf_4947435a948141df99a44ddfb03348a9\\\\setup.py'\"'\"';f=getattr(tokenize, '\"'\"'open'\"'\"', open)(__file__);code=f.read().replace('\"'\"'\\r\\n'\"'\"', '\"'\"'\\n'\"'\"');f.close();exec(compile(code, __file__, '\"'\"'exec'\"'\"'))' bdist_wheel -d 'C:\\Users\\Mein Pc\\AppData\\Local\\Temp\\pip-wheel-23rhld1f'\n",
      "       cwd: C:\\Users\\Mein Pc\\AppData\\Local\\Temp\\pip-install-m0sja0vq\\cudf_4947435a948141df99a44ddfb03348a9\\\n",
      "  Complete output (25 lines):\n",
      "  running bdist_wheel\n",
      "  running build\n",
      "  installing to build\\bdist.win-amd64\\wheel\n",
      "  running install\n",
      "  Traceback (most recent call last):\n",
      "    File \"<string>\", line 1, in <module>\n",
      "    File \"C:\\Users\\Mein Pc\\AppData\\Local\\Temp\\pip-install-m0sja0vq\\cudf_4947435a948141df99a44ddfb03348a9\\setup.py\", line 18, in <module>\n",
      "      setup(name=pkg,\n",
      "    File \"C:\\Users\\Mein Pc\\.conda\\envs\\CUDA-GPU\\lib\\site-packages\\setuptools\\__init__.py\", line 153, in setup\n",
      "      return distutils.core.setup(**attrs)\n",
      "    File \"C:\\Users\\Mein Pc\\.conda\\envs\\CUDA-GPU\\lib\\distutils\\core.py\", line 148, in setup\n",
      "      dist.run_commands()\n",
      "    File \"C:\\Users\\Mein Pc\\.conda\\envs\\CUDA-GPU\\lib\\distutils\\dist.py\", line 966, in run_commands\n",
      "      self.run_command(cmd)\n",
      "    File \"C:\\Users\\Mein Pc\\.conda\\envs\\CUDA-GPU\\lib\\distutils\\dist.py\", line 985, in run_command\n",
      "      cmd_obj.run()\n",
      "    File \"C:\\Users\\Mein Pc\\.conda\\envs\\CUDA-GPU\\lib\\site-packages\\wheel\\bdist_wheel.py\", line 335, in run\n",
      "      self.run_command('install')\n",
      "    File \"C:\\Users\\Mein Pc\\.conda\\envs\\CUDA-GPU\\lib\\distutils\\cmd.py\", line 313, in run_command\n",
      "      self.distribution.run_command(command)\n",
      "    File \"C:\\Users\\Mein Pc\\.conda\\envs\\CUDA-GPU\\lib\\distutils\\dist.py\", line 985, in run_command\n",
      "      cmd_obj.run()\n",
      "    File \"C:\\Users\\Mein Pc\\AppData\\Local\\Temp\\pip-install-m0sja0vq\\cudf_4947435a948141df99a44ddfb03348a9\\setup.py\", line 15, in run\n",
      "      raise Exception(long_description)\n",
      "  Exception: Please install cudf via the rapidsai conda channel. See https://rapids.ai/start.html for instructions.\n",
      "  ----------------------------------------\n",
      "  ERROR: Failed building wheel for cudf\n",
      "    ERROR: Command errored out with exit status 1:\n",
      "     command: 'C:\\Users\\Mein Pc\\.conda\\envs\\CUDA-GPU\\python.exe' -u -c 'import sys, setuptools, tokenize; sys.argv[0] = '\"'\"'C:\\\\Users\\\\Mein Pc\\\\AppData\\\\Local\\\\Temp\\\\pip-install-m0sja0vq\\\\cudf_4947435a948141df99a44ddfb03348a9\\\\setup.py'\"'\"'; __file__='\"'\"'C:\\\\Users\\\\Mein Pc\\\\AppData\\\\Local\\\\Temp\\\\pip-install-m0sja0vq\\\\cudf_4947435a948141df99a44ddfb03348a9\\\\setup.py'\"'\"';f=getattr(tokenize, '\"'\"'open'\"'\"', open)(__file__);code=f.read().replace('\"'\"'\\r\\n'\"'\"', '\"'\"'\\n'\"'\"');f.close();exec(compile(code, __file__, '\"'\"'exec'\"'\"'))' install --record 'C:\\Users\\Mein Pc\\AppData\\Local\\Temp\\pip-record-y1o8r38y\\install-record.txt' --single-version-externally-managed --compile --install-headers 'C:\\Users\\Mein Pc\\.conda\\envs\\CUDA-GPU\\Include\\cudf'\n",
      "         cwd: C:\\Users\\Mein Pc\\AppData\\Local\\Temp\\pip-install-m0sja0vq\\cudf_4947435a948141df99a44ddfb03348a9\\\n",
      "    Complete output (16 lines):\n",
      "    running install\n",
      "    Traceback (most recent call last):\n",
      "      File \"<string>\", line 1, in <module>\n",
      "      File \"C:\\Users\\Mein Pc\\AppData\\Local\\Temp\\pip-install-m0sja0vq\\cudf_4947435a948141df99a44ddfb03348a9\\setup.py\", line 18, in <module>\n",
      "        setup(name=pkg,\n",
      "      File \"C:\\Users\\Mein Pc\\.conda\\envs\\CUDA-GPU\\lib\\site-packages\\setuptools\\__init__.py\", line 153, in setup\n",
      "        return distutils.core.setup(**attrs)\n",
      "      File \"C:\\Users\\Mein Pc\\.conda\\envs\\CUDA-GPU\\lib\\distutils\\core.py\", line 148, in setup\n",
      "        dist.run_commands()\n",
      "      File \"C:\\Users\\Mein Pc\\.conda\\envs\\CUDA-GPU\\lib\\distutils\\dist.py\", line 966, in run_commands\n",
      "        self.run_command(cmd)\n",
      "      File \"C:\\Users\\Mein Pc\\.conda\\envs\\CUDA-GPU\\lib\\distutils\\dist.py\", line 985, in run_command\n",
      "        cmd_obj.run()\n",
      "      File \"C:\\Users\\Mein Pc\\AppData\\Local\\Temp\\pip-install-m0sja0vq\\cudf_4947435a948141df99a44ddfb03348a9\\setup.py\", line 15, in run\n",
      "        raise Exception(long_description)\n",
      "    Exception: Please install cudf via the rapidsai conda channel. See https://rapids.ai/start.html for instructions.\n",
      "    ----------------------------------------\n",
      "ERROR: Command errored out with exit status 1: 'C:\\Users\\Mein Pc\\.conda\\envs\\CUDA-GPU\\python.exe' -u -c 'import sys, setuptools, tokenize; sys.argv[0] = '\"'\"'C:\\\\Users\\\\Mein Pc\\\\AppData\\\\Local\\\\Temp\\\\pip-install-m0sja0vq\\\\cudf_4947435a948141df99a44ddfb03348a9\\\\setup.py'\"'\"'; __file__='\"'\"'C:\\\\Users\\\\Mein Pc\\\\AppData\\\\Local\\\\Temp\\\\pip-install-m0sja0vq\\\\cudf_4947435a948141df99a44ddfb03348a9\\\\setup.py'\"'\"';f=getattr(tokenize, '\"'\"'open'\"'\"', open)(__file__);code=f.read().replace('\"'\"'\\r\\n'\"'\"', '\"'\"'\\n'\"'\"');f.close();exec(compile(code, __file__, '\"'\"'exec'\"'\"'))' install --record 'C:\\Users\\Mein Pc\\AppData\\Local\\Temp\\pip-record-y1o8r38y\\install-record.txt' --single-version-externally-managed --compile --install-headers 'C:\\Users\\Mein Pc\\.conda\\envs\\CUDA-GPU\\Include\\cudf' Check the logs for full command output.\n"
     ]
    }
   ],
   "source": [
    "!pip install cudf"
   ]
  },
  {
   "cell_type": "code",
   "execution_count": null,
   "metadata": {},
   "outputs": [],
   "source": []
  }
 ],
 "metadata": {
  "kernelspec": {
   "display_name": "Python [conda env:.conda-CUDA-GPU] *",
   "language": "python",
   "name": "conda-env-.conda-CUDA-GPU-py"
  },
  "language_info": {
   "codemirror_mode": {
    "name": "ipython",
    "version": 3
   },
   "file_extension": ".py",
   "mimetype": "text/x-python",
   "name": "python",
   "nbconvert_exporter": "python",
   "pygments_lexer": "ipython3",
   "version": "3.8.5"
  }
 },
 "nbformat": 4,
 "nbformat_minor": 4
}
