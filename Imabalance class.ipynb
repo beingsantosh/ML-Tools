{
 "cells": [
  {
   "cell_type": "code",
   "execution_count": 10,
   "metadata": {},
   "outputs": [],
   "source": [
    "# load and summarize the dataset\n",
    "import pandas as pd\n",
    "from collections import Counter\n",
    "from matplotlib import pyplot\n",
    "from sklearn.preprocessing import LabelEncoder\n",
    "from sklearn.datasets import make_classification\n",
    "import numpy as np"
   ]
  },
  {
   "cell_type": "code",
   "execution_count": 4,
   "metadata": {},
   "outputs": [],
   "source": [
    "%config Completer.use_jedi = False"
   ]
  },
  {
   "cell_type": "code",
   "execution_count": 73,
   "metadata": {},
   "outputs": [],
   "source": [
    "X,y = make_classification(n_samples=200, n_classes=5, weights=np.array([0.3,0.325,0.3,0.4]),n_features=10,n_informative=5 )"
   ]
  },
  {
   "cell_type": "code",
   "execution_count": 74,
   "metadata": {},
   "outputs": [],
   "source": [
    "df = pd.DataFrame(data=X)"
   ]
  },
  {
   "cell_type": "code",
   "execution_count": 75,
   "metadata": {},
   "outputs": [],
   "source": [
    "df.columns = ['X'+str(i) for i in df.columns.values]"
   ]
  },
  {
   "cell_type": "code",
   "execution_count": 76,
   "metadata": {},
   "outputs": [
    {
     "data": {
      "text/html": [
       "<div>\n",
       "<style scoped>\n",
       "    .dataframe tbody tr th:only-of-type {\n",
       "        vertical-align: middle;\n",
       "    }\n",
       "\n",
       "    .dataframe tbody tr th {\n",
       "        vertical-align: top;\n",
       "    }\n",
       "\n",
       "    .dataframe thead th {\n",
       "        text-align: right;\n",
       "    }\n",
       "</style>\n",
       "<table border=\"1\" class=\"dataframe\">\n",
       "  <thead>\n",
       "    <tr style=\"text-align: right;\">\n",
       "      <th></th>\n",
       "      <th>X0</th>\n",
       "      <th>X1</th>\n",
       "      <th>X2</th>\n",
       "      <th>X3</th>\n",
       "      <th>X4</th>\n",
       "      <th>X5</th>\n",
       "      <th>X6</th>\n",
       "      <th>X7</th>\n",
       "      <th>X8</th>\n",
       "      <th>X9</th>\n",
       "    </tr>\n",
       "  </thead>\n",
       "  <tbody>\n",
       "    <tr>\n",
       "      <th>0</th>\n",
       "      <td>-0.940477</td>\n",
       "      <td>0.368771</td>\n",
       "      <td>3.350941</td>\n",
       "      <td>0.933164</td>\n",
       "      <td>-1.307400</td>\n",
       "      <td>-0.193991</td>\n",
       "      <td>3.712200</td>\n",
       "      <td>0.262356</td>\n",
       "      <td>0.685094</td>\n",
       "      <td>0.768134</td>\n",
       "    </tr>\n",
       "    <tr>\n",
       "      <th>1</th>\n",
       "      <td>1.900753</td>\n",
       "      <td>-3.269333</td>\n",
       "      <td>2.645874</td>\n",
       "      <td>0.305957</td>\n",
       "      <td>2.235315</td>\n",
       "      <td>-1.129263</td>\n",
       "      <td>2.883494</td>\n",
       "      <td>-1.267048</td>\n",
       "      <td>1.698217</td>\n",
       "      <td>0.265568</td>\n",
       "    </tr>\n",
       "    <tr>\n",
       "      <th>2</th>\n",
       "      <td>-0.827799</td>\n",
       "      <td>-1.706328</td>\n",
       "      <td>-1.874509</td>\n",
       "      <td>-1.620663</td>\n",
       "      <td>1.977288</td>\n",
       "      <td>-0.209607</td>\n",
       "      <td>-0.651581</td>\n",
       "      <td>1.074998</td>\n",
       "      <td>0.128223</td>\n",
       "      <td>-0.423269</td>\n",
       "    </tr>\n",
       "    <tr>\n",
       "      <th>3</th>\n",
       "      <td>0.737101</td>\n",
       "      <td>-1.839588</td>\n",
       "      <td>3.517397</td>\n",
       "      <td>-2.089953</td>\n",
       "      <td>-2.190972</td>\n",
       "      <td>2.449111</td>\n",
       "      <td>0.718838</td>\n",
       "      <td>-0.641772</td>\n",
       "      <td>0.187761</td>\n",
       "      <td>0.502926</td>\n",
       "    </tr>\n",
       "    <tr>\n",
       "      <th>4</th>\n",
       "      <td>-2.549040</td>\n",
       "      <td>0.986727</td>\n",
       "      <td>-2.126180</td>\n",
       "      <td>0.356329</td>\n",
       "      <td>1.166680</td>\n",
       "      <td>-1.178868</td>\n",
       "      <td>0.696904</td>\n",
       "      <td>-0.843061</td>\n",
       "      <td>0.408251</td>\n",
       "      <td>0.282356</td>\n",
       "    </tr>\n",
       "  </tbody>\n",
       "</table>\n",
       "</div>"
      ],
      "text/plain": [
       "         X0        X1        X2        X3        X4        X5        X6  \\\n",
       "0 -0.940477  0.368771  3.350941  0.933164 -1.307400 -0.193991  3.712200   \n",
       "1  1.900753 -3.269333  2.645874  0.305957  2.235315 -1.129263  2.883494   \n",
       "2 -0.827799 -1.706328 -1.874509 -1.620663  1.977288 -0.209607 -0.651581   \n",
       "3  0.737101 -1.839588  3.517397 -2.089953 -2.190972  2.449111  0.718838   \n",
       "4 -2.549040  0.986727 -2.126180  0.356329  1.166680 -1.178868  0.696904   \n",
       "\n",
       "         X7        X8        X9  \n",
       "0  0.262356  0.685094  0.768134  \n",
       "1 -1.267048  1.698217  0.265568  \n",
       "2  1.074998  0.128223 -0.423269  \n",
       "3 -0.641772  0.187761  0.502926  \n",
       "4 -0.843061  0.408251  0.282356  "
      ]
     },
     "execution_count": 76,
     "metadata": {},
     "output_type": "execute_result"
    }
   ],
   "source": [
    "df.head()"
   ]
  },
  {
   "cell_type": "code",
   "execution_count": 77,
   "metadata": {},
   "outputs": [
    {
     "data": {
      "text/plain": [
       "array([0, 0, 3, 1, 2, 0, 1, 0, 0, 2, 2, 0, 2, 1, 2, 0, 1, 1, 2, 0, 1, 1,\n",
       "       0, 3, 1, 2, 1, 2, 1, 2, 2, 0, 2, 2, 3, 2, 1, 2, 0, 0, 3, 1, 0, 0,\n",
       "       1, 2, 0, 2, 0, 0, 3, 2, 3, 0, 2, 0, 1, 0, 1, 2, 2, 1, 1, 1, 2, 1,\n",
       "       1, 0, 1, 2, 0, 0, 2, 3, 0, 0, 1, 3, 3, 1, 1, 0, 2, 3, 2, 0, 0, 0,\n",
       "       1, 2, 2, 2, 0, 1, 2, 0, 0, 3, 0, 1, 0, 2, 2, 0, 0, 1, 0, 0, 2, 1,\n",
       "       2, 0, 0, 0, 2, 1, 1, 1, 0, 2, 1, 1, 0, 3, 2, 1, 2, 0, 2, 1, 2, 2,\n",
       "       2, 1, 2, 0, 0, 1, 0, 1, 1, 0, 1, 1, 1, 2, 1, 1, 0, 3, 2, 2, 1, 1,\n",
       "       0, 1, 0, 3, 1, 0, 1, 2, 2, 1, 2, 2, 1, 1, 2, 2, 1, 2, 2, 1, 1, 3,\n",
       "       1, 0, 2, 0, 1, 1, 1, 2, 2, 0, 2, 1, 2, 0, 0, 2, 1, 0, 1, 0, 1, 2,\n",
       "       0, 1])"
      ]
     },
     "execution_count": 77,
     "metadata": {},
     "output_type": "execute_result"
    }
   ],
   "source": [
    "y"
   ]
  },
  {
   "cell_type": "code",
   "execution_count": 78,
   "metadata": {},
   "outputs": [],
   "source": [
    "le = LabelEncoder()\n",
    "y = le.fit_transform(y)\n"
   ]
  },
  {
   "cell_type": "code",
   "execution_count": 79,
   "metadata": {},
   "outputs": [
    {
     "data": {
      "text/plain": [
       "array([0, 1, 2, 3])"
      ]
     },
     "execution_count": 79,
     "metadata": {},
     "output_type": "execute_result"
    }
   ],
   "source": [
    "le.classes_"
   ]
  },
  {
   "cell_type": "code",
   "execution_count": 80,
   "metadata": {},
   "outputs": [
    {
     "data": {
      "text/plain": [
       "Counter({0: 60, 3: 15, 1: 65, 2: 60})"
      ]
     },
     "execution_count": 80,
     "metadata": {},
     "output_type": "execute_result"
    }
   ],
   "source": [
    "Counter(y)"
   ]
  },
  {
   "cell_type": "code",
   "execution_count": 81,
   "metadata": {},
   "outputs": [
    {
     "name": "stdout",
     "output_type": "stream",
     "text": [
      "Class=0, n=60 (30.000%)\n",
      "Class=3, n=15 (7.500%)\n",
      "Class=1, n=65 (32.500%)\n",
      "Class=2, n=60 (30.000%)\n"
     ]
    },
    {
     "data": {
      "image/png": "[encoded data removed]",
      "text/plain": [
       "<Figure size 432x288 with 1 Axes>"
      ]
     },
     "metadata": {
      "needs_background": "light"
     },
     "output_type": "display_data"
    }
   ],
   "source": [
    "# summarize distribution\n",
    "counter = Counter(y)\n",
    "for k,v in counter.items():\n",
    "    per = v / len(y) * 100\n",
    "    print('Class=%d, n=%d (%.3f%%)' % (k, v, per))\n",
    "# plot the distribution\n",
    "pyplot.bar(counter.keys(), counter.values())\n",
    "pyplot.show()"
   ]
  },
  {
   "cell_type": "markdown",
   "metadata": {},
   "source": [
    "# SMOTE"
   ]
  },
  {
   "cell_type": "code",
   "execution_count": 82,
   "metadata": {},
   "outputs": [],
   "source": [
    "from imblearn.over_sampling import SMOTE\n"
   ]
  },
  {
   "cell_type": "code",
   "execution_count": 83,
   "metadata": {},
   "outputs": [],
   "source": [
    "oversample = SMOTE()\n",
    "X, y = oversample.fit_resample(X, y)\n"
   ]
  },
  {
   "cell_type": "code",
   "execution_count": 86,
   "metadata": {},
   "outputs": [
    {
     "data": {
      "text/plain": [
       "{0: 65, 3: 65, 1: 65, 2: 65}"
      ]
     },
     "execution_count": 86,
     "metadata": {},
     "output_type": "execute_result"
    }
   ],
   "source": [
    "dict(Counter(y))"
   ]
  },
  {
   "cell_type": "code",
   "execution_count": 85,
   "metadata": {},
   "outputs": [
    {
     "name": "stdout",
     "output_type": "stream",
     "text": [
      "Class=0, n=65 (25.000%)\n",
      "Class=3, n=65 (25.000%)\n",
      "Class=1, n=65 (25.000%)\n",
      "Class=2, n=65 (25.000%)\n"
     ]
    },
    {
     "data": {
      "image/png": "[encoded data removed]",
      "text/plain": [
       "<Figure size 432x288 with 1 Axes>"
      ]
     },
     "metadata": {
      "needs_background": "light"
     },
     "output_type": "display_data"
    }
   ],
   "source": [
    "# summarize distribution\n",
    "counter = Counter(y)\n",
    "for k,v in counter.items():\n",
    "    per = v / len(y) * 100\n",
    "    print('Class=%d, n=%d (%.3f%%)' % (k, v, per))\n",
    "# plot the distribution\n",
    "pyplot.bar(counter.keys(), counter.values())\n",
    "pyplot.show()"
   ]
  },
  {
   "cell_type": "markdown",
   "metadata": {},
   "source": [
    "# Another example"
   ]
  },
  {
   "cell_type": "code",
   "execution_count": 90,
   "metadata": {},
   "outputs": [
    {
     "name": "stdout",
     "output_type": "stream",
     "text": [
      "Original dataset shape Counter({1: 900, 0: 100})\n",
      "Resampled dataset shape Counter({0: 900, 1: 900})\n"
     ]
    }
   ],
   "source": [
    "from collections import Counter\n",
    "from sklearn.datasets import make_classification\n",
    "from imblearn.over_sampling import SMOTE # doctest: +NORMALIZE_WHITESPACE\n",
    "\n",
    "\n",
    "\n",
    "X, y = make_classification(n_classes=2, class_sep=2,\n",
    "     weights=[0.1, 0.9], n_informative=3, n_redundant=1, flip_y=0,\n",
    "     n_features=20, n_clusters_per_class=1, n_samples=1000, random_state=10)\n",
    "\n",
    "print('Original dataset shape %s' % Counter(y))\n",
    "\n",
    "\n",
    "\n",
    "\n",
    "\n",
    "sm = SMOTE(random_state=42)\n",
    "X_res, y_res = sm.fit_resample(X, y)\n",
    "print('Resampled dataset shape %s' % Counter(y_res))\n"
   ]
  },
  {
   "cell_type": "markdown",
   "metadata": {},
   "source": [
    "### custom sampling"
   ]
  },
  {
   "cell_type": "code",
   "execution_count": 96,
   "metadata": {},
   "outputs": [
    {
     "name": "stdout",
     "output_type": "stream",
     "text": [
      "Original dataset shape Counter({1: 900, 0: 100})\n",
      "Resampled dataset shape Counter({1: 1000, 0: 700})\n"
     ]
    },
    {
     "name": "stderr",
     "output_type": "stream",
     "text": [
      "C:\\Users\\Mein Pc\\.conda\\envs\\nlp_course\\lib\\site-packages\\imblearn\\utils\\_validation.py:326: UserWarning: After over-sampling, the number of samples (1000) in class 1 will be larger than the number of samples in the majority class (class #1 -> 900)\n",
      "  n_samples_majority,\n"
     ]
    }
   ],
   "source": [
    "from collections import Counter\n",
    "from sklearn.datasets import make_classification\n",
    "from imblearn.over_sampling import SMOTE # doctest: +NORMALIZE_WHITESPACE\n",
    "\n",
    "\n",
    "\n",
    "X, y = make_classification(n_classes=2, class_sep=2,\n",
    "     weights=[0.1, 0.9], n_informative=3, n_redundant=1, flip_y=0,\n",
    "     n_features=20, n_clusters_per_class=1, n_samples=1000, random_state=10)\n",
    "\n",
    "print('Original dataset shape %s' % Counter(y))\n",
    "\n",
    "\n",
    "\n",
    "\n",
    "strategy = {0:700, 1:1000}\n",
    "\n",
    "sm = SMOTE(sampling_strategy=strategy)\n",
    "X_res, y_res = sm.fit_resample(X, y)\n",
    "print('Resampled dataset shape %s' % Counter(y_res))"
   ]
  },
  {
   "cell_type": "code",
   "execution_count": 122,
   "metadata": {},
   "outputs": [],
   "source": [
    "X, y = make_classification(n_classes=2, class_sep=2,\n",
    "     weights=[0.99], n_informative=3, n_redundant=1, flip_y=0,\n",
    "     n_features=20, n_clusters_per_class=1, n_samples=1000, random_state=10)\n"
   ]
  },
  {
   "cell_type": "code",
   "execution_count": 107,
   "metadata": {},
   "outputs": [],
   "source": [
    "from sklearn.ensemble import RandomForestClassifier\n",
    "from sklearn.model_selection import RepeatedStratifiedKFold, cross_val_score"
   ]
  },
  {
   "cell_type": "code",
   "execution_count": 114,
   "metadata": {},
   "outputs": [],
   "source": []
  },
  {
   "cell_type": "code",
   "execution_count": 115,
   "metadata": {},
   "outputs": [
    {
     "data": {
      "text/plain": [
       "RandomForestClassifier(n_estimators=1000)"
      ]
     },
     "execution_count": 115,
     "metadata": {},
     "output_type": "execute_result"
    }
   ],
   "source": [
    "rf.fit(X,y)"
   ]
  },
  {
   "cell_type": "code",
   "execution_count": 137,
   "metadata": {},
   "outputs": [
    {
     "data": {
      "text/plain": [
       "0.999"
      ]
     },
     "execution_count": 137,
     "metadata": {},
     "output_type": "execute_result"
    }
   ],
   "source": [
    "rf = RandomForestClassifier(n_estimators=1000)\n",
    "cv = RepeatedStratifiedKFold(n_splits=5, n_repeats=3, random_state=1)\n",
    "scores = cross_val_score(rf, X, y, scoring='accuracy', cv=cv, n_jobs=-1)\n",
    "scores.mean()"
   ]
  },
  {
   "cell_type": "code",
   "execution_count": 136,
   "metadata": {},
   "outputs": [
    {
     "data": {
      "text/plain": [
       "0.999"
      ]
     },
     "execution_count": 136,
     "metadata": {},
     "output_type": "execute_result"
    }
   ],
   "source": [
    "# random forest applied with balanced parameter\n",
    "rf = RandomForestClassifier(n_estimators=1000, class_weight='balanced')\n",
    "cv = RepeatedStratifiedKFold(n_splits=5, n_repeats=3, random_state=1)\n",
    "scores = cross_val_score(rf, X, y, scoring='accuracy', cv=cv, n_jobs=-1)\n",
    "scores.mean()"
   ]
  },
  {
   "cell_type": "code",
   "execution_count": 135,
   "metadata": {},
   "outputs": [],
   "source": [
    "### this also possible , manually defining the classes\n",
    "weights = {0:1.0, 1:1.0, 2:2.0, 3:2.0, 4:2.0, 5:2.0}\n",
    "model = RandomForestClassifier(n_estimators=1000, class_weight=weights)\n",
    "###"
   ]
  },
  {
   "cell_type": "code",
   "execution_count": null,
   "metadata": {},
   "outputs": [],
   "source": []
  }
 ],
 "metadata": {
  "kernelspec": {
   "display_name": "Python 3",
   "language": "python",
   "name": "python3"
  },
  "language_info": {
   "codemirror_mode": {
    "name": "ipython",
    "version": 3
   },
   "file_extension": ".py",
   "mimetype": "text/x-python",
   "name": "python",
   "nbconvert_exporter": "python",
   "pygments_lexer": "ipython3",
   "version": "3.7.9"
  }
 },
 "nbformat": 4,
 "nbformat_minor": 4
}
