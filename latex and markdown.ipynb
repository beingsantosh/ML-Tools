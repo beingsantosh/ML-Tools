{
 "cells": [
  {
   "cell_type": "markdown",
   "metadata": {},
   "source": [
    "To insert a mathematical formula we use the dollar symbol $, as follows:\n",
    "\n",
    "Euler's identity: $ e^{i \\pi} + 1 = 0 $\n",
    "\n",
    "To isolate and center the formulas and enter in math display mode, we use 2 dollars symbol:\n",
    "\n",
    "$$\n",
    "\n",
    "...\n",
    "\n",
    "$$\n",
    "\n",
    "Euler's identity: $$ e^{i \\pi} + 1 = 0 $$"
   ]
  },
  {
   "cell_type": "markdown",
   "metadata": {},
   "source": [
    "\n",
    "$$\n",
    "\\frac{arg 1}{arg 2} \\\\\n",
    "x^2\\\\\n",
    "e^{i\\pi}\\\\\n",
    "A_i\\\\\n",
    "B_{ij}\\\\\n",
    "\\sqrt[n]{arg}\n",
    "$$"
   ]
  },
  {
   "cell_type": "markdown",
   "metadata": {},
   "source": [
    "$$ x^2 \\\\ \n",
    "e^{i\\pi}\\\\\n",
    "A_i\\\\\n",
    "\\frac{arg 1}{arg 2} \\\\\n",
    "\\sqrt[n]{arg} \\\\\n",
    "B_{ij}\\\n",
    "$$"
   ]
  },
  {
   "cell_type": "markdown",
   "metadata": {},
   "source": [
    "--------------------\n",
    "\n",
    "Given : $\\pi = 3.14$ , $\\alpha = \\frac{3\\pi}{4}\\, rad$\n",
    "$$\n",
    "\\omega = 2\\pi f \\\\\n",
    "f = \\frac{c}{\\lambda}\\\\\n",
    "\\lambda_0=\\theta^2+\\delta\\\\\n",
    "\\Delta\\lambda = \\frac{1}{\\lambda^2}\n",
    "$$"
   ]
  },
  {
   "cell_type": "markdown",
   "metadata": {},
   "source": [
    "----------------------\n",
    "$$\n",
    "\\sin(-\\alpha)=-\\sin(\\alpha)\\\\\n",
    "\\arccos(x)=\\arcsin(u)\\\\\n",
    "\\log_n(n)=1\\\\\n",
    "\\tan(x) = \\frac{\\sin(x)}{\\cos(x)}\\\\\n",
    "\\alpha\n",
    "$$"
   ]
  },
  {
   "cell_type": "markdown",
   "metadata": {},
   "source": [
    "-----------------------------------\n",
    "#Other Symbols\n",
    "## Angles:\n",
    "Left angle : $\\langle$\n",
    "\n",
    "Right angle : $\\rangle$\n",
    "\n",
    "Angle between two vectors u and v\t: $\\langle \\vec{u},\\vec{v}\\rangle$\t\n",
    "\n",
    "$$ \\vec{AB} \\, \\cdot \\, \\vec{CD} =0  \\Rightarrow  \\vec{AB} \\, \\perp\\, \\vec{CD}$$\n",
    "\n",
    "##Sets and logic\n",
    "$$\\mathbb{N} \\subset \\mathbb{Z} \\subset \\mathbb{D} \\subset \\mathbb{Q} \\subset \\mathbb{R} \\subset \\mathbb{C}$$\n"
   ]
  },
  {
   "cell_type": "markdown",
   "metadata": {},
   "source": [
    "---------------------\n",
    "$$\n",
    "sign(x) = \\left\\{\n",
    "    \\begin{array}\\\\\n",
    "        1 & \\mbox{if } \\ x \\in \\mathbf{N}^* \\\\\n",
    "        0 & \\mbox{if } \\ x = 0 \\\\\n",
    "        -1 & \\mbox{else.}\n",
    "    \\end{array}\n",
    "\\right.\n",
    "$$\n",
    "\n",
    "\\\\\n",
    "\n",
    "$$\n",
    " \\left.\n",
    "    \\begin{array} \\\\\n",
    "        \\alpha^2 = \\sqrt5 \\\\\n",
    "        \\alpha \\geq 0 \n",
    "    \\end{array}\n",
    "\\right \\}=\\alpha = 5 \n",
    "$$"
   ]
  },
  {
   "cell_type": "markdown",
   "metadata": {},
   "source": [
    "------------\n",
    "$$\n",
    "\\underbrace{\\ln \\left( \\frac{5}{6} \\right)}_{\\simeq -0.1823}\n",
    "< \\overbrace{\\exp (2)}^{\\simeq 7.3890}\n",
    "$$"
   ]
  },
  {
   "cell_type": "markdown",
   "metadata": {},
   "source": [
    "-----------\n",
    "First order derivative : $$f'(x)$$ \n",
    "K-th order derivative  : $$f^{(k)}(x)$$\n",
    "Partial firt order deivative\t: $$\\frac{\\partial f}{\\partial x}$$\n",
    "Partial k-th order derivative\t: $$\\frac{\\partial^{k} f}{\\partial x^k}$$"
   ]
  },
  {
   "cell_type": "markdown",
   "metadata": {},
   "source": [
    "------------------\n",
    "#limit\n",
    "Limit at plus infinity\t: $$\\lim_{x \\to +\\infty} f(x)$$ \n",
    "Limit at minus infinity\t: $$\\lim_{x \\to -\\infty} f(x)$$\t\n",
    "Limit at $\\alpha$  : $$\\lim_{x \\to \\alpha} f(x)$$\n",
    "\n",
    "Max : $$\\max_{x \\in [a,b]}f(x)$$\t\n",
    "Min : $$\\min_{x \\in [\\alpha,\\beta]}f(x)$$\t\n",
    "Sup : $$\\sup_{x \\in \\mathbb{R}}f(x)$$\t\n",
    "Inf : $$\\inf_{x > s}f(x)$$"
   ]
  },
  {
   "cell_type": "markdown",
   "metadata": {},
   "source": [
    "-------------\n",
    "Sum from 0 to +inf:\n",
    "\n",
    "$$\\sum_{j=0}^{+\\infty} A_{j}$$\n",
    "\n",
    "Double sum:\n",
    "$$\\sum^k_{i=1}\\sum^{l+1}_{j=1}\\,A_i A_j$$\t\n",
    "\n",
    "\n",
    "Taylor expansion of $e^x$:\n",
    "$$ e^x  = \\sum_{k=0}^{n}\\, \\frac{x^k}{k!} + o(x^n) $$ "
   ]
  },
  {
   "cell_type": "markdown",
   "metadata": {},
   "source": [
    "---------------\n",
    "Product:\n",
    "$$\\prod_{j=1}^k A_{\\alpha_j}$$\n",
    "Double product:\n",
    "$$\\prod^k_{i=1}\\prod^l_{j=1}\\,A_i A_j$$\t\n"
   ]
  },
  {
   "cell_type": "markdown",
   "metadata": {},
   "source": [
    "-----------------\n",
    "Simple integral:\n",
    "$$\\int_{a}^b f(x)dx$$\n",
    "\n",
    "Double integral:\n",
    "$$\\int_{a}^b\\int_{c}^d f(x,y)\\,dxdy$$\t\n",
    "\n",
    "Triple integral:\n",
    "$$\\iiint$$\t\n",
    "\n",
    "Quadruple integral:\n",
    "$$\\iiiint$$\t\n",
    "\n",
    "Multiple integral :\n",
    "$$\\idotsint$$\n",
    "\n",
    "Contour integral:\n",
    "$$\\oint$$\t"
   ]
  },
  {
   "cell_type": "markdown",
   "metadata": {},
   "source": [
    "-------------\n",
    "Plain:\n",
    "\n",
    "\\begin{matrix}\n",
    "1 & 2 & 3\\\\\n",
    "a & b & c\n",
    "\\end{matrix}\n",
    "\n",
    "Round brackets:\n",
    "\\begin{pmatrix}\n",
    "1 & 2 & 3\\\\\n",
    "a & b & c\n",
    "\\end{pmatrix}\n",
    "\n",
    "Curly brackets:\n",
    "\\begin{Bmatrix}\n",
    "1 & 2 & 3\\\\\n",
    "a & b & c\n",
    "\\end{Bmatrix}\t\n",
    "\n",
    "Pipes:\n",
    "\\begin{vmatrix}\n",
    "1 & 2 & 3\\\\\n",
    "a & b & c\n",
    "\\end{vmatrix}\n",
    "\n",
    "Double pipes\n",
    "\\begin{Vmatrix}\n",
    "1 & 2 & 3\\\\\n",
    "a & b & c\n",
    "\\end{Vmatrix}"
   ]
  },
  {
   "cell_type": "markdown",
   "metadata": {},
   "source": [
    "-------------\n",
    "Markdown\n",
    "# Heading 1\n",
    "## Heading 2\n",
    "### Heading 3\n",
    "#### Heading 4\n",
    "##### Heading 5\n",
    "###### Heading 6"
   ]
  },
  {
   "cell_type": "markdown",
   "metadata": {},
   "source": [
    "--------- \n",
    "html\n",
    "<h1>Heading 1</h1>\n",
    "<h2>Heading 2</h2>\n",
    "<h3>Heading 3</h3>\n",
    "<h4>Heading 4</h4>\n",
    "<h5>Heading 5</h5>\n",
    "<h6>Heading 6</h6>"
   ]
  },
  {
   "cell_type": "markdown",
   "metadata": {},
   "source": [
    "-----------\n",
    "<p>This is a paragraph of text.</p>\n",
    "<p>This is another paragraph of text.</p>"
   ]
  },
  {
   "cell_type": "markdown",
   "metadata": {},
   "source": [
    "---------------\n",
    "This is a text.     <!-- spaces -->\n",
    "\n",
    "This is another text."
   ]
  },
  {
   "cell_type": "markdown",
   "metadata": {},
   "source": [
    "--- --------------\n",
    "html\n",
    "\n",
    "<p>This is a text. <br> This is another text.</p>\n"
   ]
  },
  {
   "cell_type": "markdown",
   "metadata": {},
   "source": [
    "-------------\n",
    "Emphasis, aka italics, with *asterisks* or _underscores_.\n",
    "\n",
    "Strong emphasis, aka bold, with **asterisks** or __underscores__.\n",
    "\n",
    "Combined emphasis with **asterisks and _underscores_**.\n",
    "\n",
    "Strikethrough uses two tildes ~ . ~~Scratch this.~~"
   ]
  },
  {
   "cell_type": "markdown",
   "metadata": {},
   "source": [
    "------------\n",
    "html\n",
    "<p>Emphasis, aka italics, with  <i> i or em tag</i></p>\n",
    "<p>Strong emphasis, aka bold, <b>b or strong tag</b></p>\n",
    "<p>Combined emphasis with <b><i> both tags </b></i></p>\n",
    "<p>Strikethrough uses <strike> strike tag </strike> </p>\n"
   ]
  },
  {
   "cell_type": "markdown",
   "metadata": {},
   "source": [
    "------------\n",
    "<ol>\n",
    "<li>Item 1</li>\n",
    "<li>Item 2 ( we can type 1. and the markdown will automatically numerate them) </li>\n",
    "<li><p>First Item</p>\n",
    "<ul>\n",
    "<li>Nested item 1</li>\n",
    "<li>Nested item 2<ol>\n",
    "<li>Keep going</li>\n",
    "<li>Yes</li>\n",
    "</ol>\n",
    "</li>\n",
    "</ul>\n",
    "</li>\n",
    "<li><p>Second Item</p>\n",
    "</li>\n",
    "<li>First Item</li>\n",
    "<li>Second Item</li>\n",
    "</ol>"
   ]
  },
  {
   "cell_type": "markdown",
   "metadata": {},
   "source": [
    "------------\n",
    "<!-- [Text](link) -->\n",
    "<p><a href=\"https://medium.com/@ahmedazizkhelifi\" title=\"Optional Title\">Link Text</a></p>\n",
    "<!-- ![Alt Text](image path \"title\") -->\n",
    "<p><img src=\"https://miro.medium.com/max/80/0*PRNVc7bjff0Jj1pm.png\" alt=\"Alt Text\" title=\"Optional Title\"></p>\n",
    "<!-- [![Alt Text](image path \"title\")](link) -->\n",
    "<p><a href=\"https://medium.com/@ahmedazizkhelifi\"><img src=\"https://miro.medium.com/max/80/0*PRNVc7bjff0Jj1pm.png\" alt=\"Alt Text\" title=\"Optional Title\"></a></p>\n",
    "view raw"
   ]
  },
  {
   "cell_type": "markdown",
   "metadata": {},
   "source": [
    "--------------\n",
    "<p>Reading articles on Medium is awesome.</p>\n",
    "<hr>\n",
    "<p>Sure !!</p>"
   ]
  },
  {
   "cell_type": "markdown",
   "metadata": {},
   "source": [
    "-------------\n",
    "<table>\n",
    "<thead>\n",
    "<tr>\n",
    "<th>Id</th>\n",
    "<th>Label</th>\n",
    "<th>Price</th>\n",
    "</tr>\n",
    "</thead>\n",
    "    \n",
    "    \n",
    "<tbody>\n",
    "    \n",
    "<tr>\n",
    "<td>01</td>\n",
    "<td>Markdown</td>\n",
    "<td>$1600</td>\n",
    "</tr>\n",
    "\n",
    "<tr>\n",
    "<td>02</td>\n",
    "<td>is</td>\n",
    "<td>$12</td>\n",
    "</tr>\n",
    "\n",
    "<tr>\n",
    "<td>03</td>\n",
    "<td>AWESOME</td>\n",
    "<td>$999</td>\n",
    "</tr>\n",
    "\n",
    "</tbody>\n",
    "\n",
    "</table>"
   ]
  },
  {
   "cell_type": "markdown",
   "metadata": {},
   "source": [
    "-----------\n",
    "\n",
    "<pre><code class=\"lang-python\"><span class=\"hljs-function\"><span class=\"hljs-keyword\">def</span> <span class=\"hljs-title\">staySafe</span><span class=\"hljs-params\">(Coronavirus)</span></span>\n",
    "    <span class=\"hljs-keyword\">if</span> <span class=\"hljs-keyword\">not</span> <span class=\"hljs-symbol\">home:</span>\n",
    "        <span class=\"hljs-keyword\">return</span> home\n",
    "</code></pre>"
   ]
  },
  {
   "cell_type": "markdown",
   "metadata": {},
   "source": [
    "-------\n",
    "<blockquote>\n",
    "<p>This is a blockquote.</p>\n",
    "<p>This is part of the same blockquote.</p>\n",
    "</blockquote>\n",
    "<p>Quote break</p>\n",
    "<blockquote>\n",
    "<p>This is a new blockquote.</p>\n",
    "</blockquote>"
   ]
  },
  {
   "cell_type": "markdown",
   "metadata": {},
   "source": [
    "\n",
    "\n",
    "------------------------\n",
    "\n",
    "\n",
    "</div>\n",
    "<div class=\"alert alert-success\" role=\"alert\">\n",
    "  This is a success alert—check it out!\n",
    "</div>\n",
    "<div class=\"alert alert-danger\" role=\"alert\">\n",
    "  This is a danger alert—check it out!\n",
    "</div>\n",
    "<div class=\"alert alert-warning\" role=\"alert\">\n",
    "  This is a warning alert—check it out!\n",
    "</div>\n",
    "<div class=\"alert alert-info\" role=\"alert\">\n",
    "  This is a info alert—check it out!\n",
    "</div>\n"
   ]
  },
  {
   "cell_type": "markdown",
   "metadata": {},
   "source": [
    "\n",
    "--------------\n",
    "<div class=\"alert alert-success\" role=\"alert\">\n",
    "  <h4 class=\"alert-heading\">Well done!</h4>\n",
    "  <p>Aww yeah, you successfully read this important alert message. This example text is going to run a bit longer so that you can see how spacing within an alert works with this kind of content.</p>\n",
    "  <hr>\n",
    "  <p class=\"mb-0\">Whenever you need to, be sure to use margin utilities to keep things nice and tidy.</p>\n",
    "</div>"
   ]
  },
  {
   "cell_type": "markdown",
   "metadata": {},
   "source": [
    "------------\n",
    "\n",
    "<h1>Example heading <span class=\"badge badge-secondary\">New</span></h1>\n",
    "<h2>Example heading <span class=\"badge badge-secondary\">New</span></h2>\n",
    "<h3>Example heading <span class=\"badge badge-secondary\">New</span></h3>\n",
    "<h4>Example heading <span class=\"badge badge-secondary\">New</span></h4>\n",
    "<h5>Example heading <span class=\"badge badge-secondary\">New</span></h5>\n",
    "<h6>Example heading <span class=\"badge badge-secondary\">New</span></h6>"
   ]
  },
  {
   "cell_type": "markdown",
   "metadata": {},
   "source": [
    "<span class=\"badge badge-primary\">Primary</span>\n",
    "<span class=\"badge badge-secondary\">Secondary</span>\n",
    "<span class=\"badge badge-success\">Success</span>\n",
    "<span class=\"badge badge-danger\">Danger</span>\n",
    "<span class=\"badge badge-warning\">Warning</span>\n",
    "<span class=\"badge badge-info\">Info</span>\n",
    "<span class=\"badge badge-light\">Light</span>\n",
    "<span class=\"badge badge-dark\">Dark</span>"
   ]
  },
  {
   "cell_type": "markdown",
   "metadata": {},
   "source": [
    "<span class=\"badge badge-pill badge-primary\">Primary</span>\n",
    "<span class=\"badge badge-pill badge-secondary\">Secondary</span>\n",
    "<span class=\"badge badge-pill badge-success\">Success</span>\n",
    "<span class=\"badge badge-pill badge-danger\">Danger</span>\n",
    "<span class=\"badge badge-pill badge-warning\">Warning</span>\n",
    "<span class=\"badge badge-pill badge-info\">Info</span>\n",
    "<span class=\"badge badge-pill badge-light\">Light</span>\n",
    "<span class=\"badge badge-pill badge-dark\">Dark</span>"
   ]
  },
  {
   "cell_type": "markdown",
   "metadata": {},
   "source": [
    "<a href=\"#\" class=\"badge badge-primary\">Primary</a>\n",
    "<a href=\"#\" class=\"badge badge-secondary\">Secondary</a>\n",
    "<a href=\"#\" class=\"badge badge-success\">Success</a>\n",
    "<a href=\"#\" class=\"badge badge-danger\">Danger</a>\n",
    "<a href=\"#\" class=\"badge badge-warning\">Warning</a>\n",
    "<a href=\"#\" class=\"badge badge-info\">Info</a>\n",
    "<a href=\"#\" class=\"badge badge-light\">Light</a>\n",
    "<a href=\"#\" class=\"badge badge-dark\">Dark</a>"
   ]
  },
  {
   "cell_type": "markdown",
   "metadata": {},
   "source": [
    "<div class=\"progress\">\n",
    "  <div class=\"progress-bar\" role=\"progressbar\" aria-valuenow=\"0\" aria-valuemin=\"0\" aria-valuemax=\"100\"></div>\n",
    "</div>\n",
    "<div class=\"progress\">\n",
    "  <div class=\"progress-bar\" role=\"progressbar\" style=\"width: 25%\" aria-valuenow=\"25\" aria-valuemin=\"0\" aria-valuemax=\"100\"></div>\n",
    "</div>\n",
    "<div class=\"progress\">\n",
    "  <div class=\"progress-bar\" role=\"progressbar\" style=\"width: 50%\" aria-valuenow=\"50\" aria-valuemin=\"0\" aria-valuemax=\"100\"></div>\n",
    "</div>\n",
    "<div class=\"progress\">\n",
    "  <div class=\"progress-bar\" role=\"progressbar\" style=\"width: 75%\" aria-valuenow=\"75\" aria-valuemin=\"0\" aria-valuemax=\"100\"></div>\n",
    "</div>\n",
    "<div class=\"progress\">\n",
    "  <div class=\"progress-bar\" role=\"progressbar\" style=\"width: 100%\" aria-valuenow=\"100\" aria-valuemin=\"0\" aria-valuemax=\"100\"></div>\n",
    "</div>"
   ]
  },
  {
   "cell_type": "markdown",
   "metadata": {},
   "source": [
    "<div class=\"progress\">\n",
    "  <div class=\"progress-bar\" role=\"progressbar\" style=\"width: 25%;\" aria-valuenow=\"25\" aria-valuemin=\"0\" aria-valuemax=\"100\">25%</div>\n",
    "</div>"
   ]
  },
  {
   "cell_type": "markdown",
   "metadata": {},
   "source": [
    "<div class=\"progress\">\n",
    "  <div class=\"progress-bar bg-success\" role=\"progressbar\" style=\"width: 25%\" aria-valuenow=\"25\" aria-valuemin=\"0\" aria-valuemax=\"100\"></div>\n",
    "</div>\n",
    "<div class=\"progress\">\n",
    "  <div class=\"progress-bar bg-info\" role=\"progressbar\" style=\"width: 50%\" aria-valuenow=\"50\" aria-valuemin=\"0\" aria-valuemax=\"100\"></div>\n",
    "</div>\n",
    "<div class=\"progress\">\n",
    "  <div class=\"progress-bar bg-warning\" role=\"progressbar\" style=\"width: 75%\" aria-valuenow=\"75\" aria-valuemin=\"0\" aria-valuemax=\"100\"></div>\n",
    "</div>\n",
    "<div class=\"progress\">\n",
    "  <div class=\"progress-bar bg-danger\" role=\"progressbar\" style=\"width: 100%\" aria-valuenow=\"100\" aria-valuemin=\"0\" aria-valuemax=\"100\"></div>\n",
    "</div>"
   ]
  },
  {
   "cell_type": "markdown",
   "metadata": {},
   "source": [
    "------------\n",
    "\n",
    "#### reference\n",
    "\n",
    "\n",
    "In a hole in the ground there lived a hobbit. Not a nasty, dirty, wet hole, filled with the ends\n",
    "of worms and an oozy smell, nor yet a dry, bare, sandy hole with nothing in it to sit down on or to\n",
    "eat: it was a [hobbit-hole][1], and that means comfort.\n",
    "\n",
    "[1]: <https://en.wikipedia.org/wiki/Hobbit#Lifestyle> \"Hobbit lifestyles\""
   ]
  },
  {
   "cell_type": "markdown",
   "metadata": {},
   "source": [
    "-----\n",
    "\n",
    "Escaping Characters\n",
    "\n",
    "\n",
    "* Without the backslash, this would be a bullet in an unordered list.\n",
    "\n",
    "\\* Without the backslash, this would be a bullet in an unordered list.\n",
    "\n"
   ]
  },
  {
   "cell_type": "markdown",
   "metadata": {},
   "source": [
    "# Markdown Guide\n",
    "\n",
    "[![Build Status](https://github.com/mattcone/markdown-guide/workflows/tests/badge.svg?branch=master)](https://github.com/mattcone/markdown-guide/actions)\n",
    "\n",
    "*[The Markdown Guide](https://www.markdownguide.org)* is a comprehensive Markdown reference designed for both novices and experts. It was born out of frustration with existing Markdown references that are incomplete and inadequate.\n",
    "\n",
    "## Contributing\n",
    "\n",
    "Contributions are welcome. Feel free to open a pull request with changes.\n",
    "\n",
    "### Running it Locally\n",
    "\n",
    "It can be helpful to preview changes on your computer before opening a pull request. *The Markdown Guide* uses the [Jekyll static site generator](http://jekyllrb.com/). After forking or cloning the repository, perform the following steps to generate the site and preview it:\n",
    "\n",
    "- Make sure you have ruby installed on your computer. See https://www.ruby-lang.org/en/downloads/\n",
    "- `bundle install`\n",
    "- `bundle exec jekyll serve`\n",
    "- Point your browser at http://127.0.0.1:4000/\n",
    "\n",
    "### Adding tools\n",
    "\n",
    "See [this page](https://github.com/mattcone/markdown-guide/wiki/Markdown-tool-directory) for information about adding applications to the [Markdown tools directory](https://www.markdownguide.org/tools/).\n",
    "\n",
    "## Deployment\n",
    "\n",
    "Pull requests merged to the master branch are automatically deployed to the production website.\n",
    "\n",
    "## License\n",
    "\n",
    "The content of this project itself is licensed under the [Creative Commons Attribution-ShareAlike 4.0 International license](https://creativecommons.org/licenses/by-sa/4.0/), and the underlying source code used to format and display that content is licensed under the [MIT license](LICENSE.txt)."
   ]
  },
  {
   "cell_type": "code",
   "execution_count": null,
   "metadata": {},
   "outputs": [],
   "source": []
  }
 ],
 "metadata": {
  "kernelspec": {
   "display_name": "Python 3",
   "language": "python",
   "name": "python3"
  },
  "language_info": {
   "codemirror_mode": {
    "name": "ipython",
    "version": 3
   },
   "file_extension": ".py",
   "mimetype": "text/x-python",
   "name": "python",
   "nbconvert_exporter": "python",
   "pygments_lexer": "ipython3",
   "version": "3.7.3"
  }
 },
 "nbformat": 4,
 "nbformat_minor": 4
}
