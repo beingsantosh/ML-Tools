{
 "cells": [
  {
   "cell_type": "markdown",
   "metadata": {},
   "source": [
    "# This notebook to understand the concept of cross validation and its python code"
   ]
  },
  {
   "cell_type": "code",
   "execution_count": 29,
   "metadata": {},
   "outputs": [],
   "source": [
    "data = ['abc', 'shsjdf', 'sssd', 0.4, 0.5]"
   ]
  },
  {
   "cell_type": "code",
   "execution_count": 30,
   "metadata": {},
   "outputs": [],
   "source": [
    "from sklearn.model_selection import KFold"
   ]
  },
  {
   "cell_type": "code",
   "execution_count": 31,
   "metadata": {},
   "outputs": [],
   "source": [
    "%config Completer.use_jedi = False"
   ]
  },
  {
   "cell_type": "code",
   "execution_count": 32,
   "metadata": {},
   "outputs": [],
   "source": [
    "Kfold = KFold(n_splits=5, shuffle=True, random_state=1)"
   ]
  },
  {
   "cell_type": "code",
   "execution_count": 33,
   "metadata": {},
   "outputs": [
    {
     "name": "stdout",
     "output_type": "stream",
     "text": [
      "[0 1 3 4] [2]\n",
      "[0 2 3 4] [1]\n",
      "[0 1 2 3] [4]\n",
      "[1 2 3 4] [0]\n",
      "[0 1 2 4] [3]\n"
     ]
    }
   ],
   "source": [
    "for train, test in Kfold.split(data):\n",
    "    print (train,test)"
   ]
  },
  {
   "cell_type": "code",
   "execution_count": 35,
   "metadata": {},
   "outputs": [
    {
     "name": "stdout",
     "output_type": "stream",
     "text": [
      "Ideal: 0.840\n",
      "> folds=2, accuracy=0.740 (0.700,0.780)\n",
      "> folds=3, accuracy=0.749 (0.697,0.824)\n",
      "> folds=4, accuracy=0.790 (0.640,0.920)\n",
      "> folds=5, accuracy=0.810 (0.600,0.950)\n",
      "> folds=6, accuracy=0.820 (0.688,0.941)\n",
      "> folds=7, accuracy=0.799 (0.571,1.000)\n",
      "> folds=8, accuracy=0.811 (0.385,0.923)\n",
      "> folds=9, accuracy=0.829 (0.636,1.000)\n",
      "> folds=10, accuracy=0.850 (0.600,1.000)\n",
      "> folds=11, accuracy=0.829 (0.667,1.000)\n",
      "> folds=12, accuracy=0.785 (0.250,1.000)\n",
      "> folds=13, accuracy=0.839 (0.571,1.000)\n",
      "> folds=14, accuracy=0.807 (0.429,1.000)\n",
      "> folds=15, accuracy=0.821 (0.571,1.000)\n",
      "> folds=16, accuracy=0.827 (0.500,1.000)\n",
      "> folds=17, accuracy=0.816 (0.600,1.000)\n",
      "> folds=18, accuracy=0.831 (0.600,1.000)\n",
      "> folds=19, accuracy=0.826 (0.600,1.000)\n",
      "> folds=20, accuracy=0.830 (0.600,1.000)\n",
      "> folds=21, accuracy=0.814 (0.500,1.000)\n",
      "> folds=22, accuracy=0.820 (0.500,1.000)\n",
      "> folds=23, accuracy=0.802 (0.250,1.000)\n",
      "> folds=24, accuracy=0.804 (0.250,1.000)\n",
      "> folds=25, accuracy=0.810 (0.250,1.000)\n",
      "> folds=26, accuracy=0.804 (0.250,1.000)\n",
      "> folds=27, accuracy=0.818 (0.250,1.000)\n",
      "> folds=28, accuracy=0.821 (0.250,1.000)\n",
      "> folds=29, accuracy=0.822 (0.250,1.000)\n",
      "> folds=30, accuracy=0.822 (0.333,1.000)\n"
     ]
    },
    {
     "data": {
      "image/png": "[encoded data removed]",
      "text/plain": [
       "<Figure size 432x288 with 1 Axes>"
      ]
     },
     "metadata": {
      "needs_background": "light"
     },
     "output_type": "display_data"
    }
   ],
   "source": [
    "# Credit - https://machinelearningmastery.com/\n",
    "\n",
    "# sensitivity analysis of k in k-fold cross-validation\n",
    "from numpy import mean\n",
    "from sklearn.datasets import make_classification\n",
    "from sklearn.model_selection import LeaveOneOut\n",
    "from sklearn.model_selection import KFold\n",
    "from sklearn.model_selection import cross_val_score\n",
    "from sklearn.linear_model import LogisticRegression\n",
    "from matplotlib import pyplot\n",
    "\n",
    "# create the dataset\n",
    "def get_dataset(n_samples=100):\n",
    "    X, y = make_classification(n_samples=n_samples, n_features=20, n_informative=15, n_redundant=5, random_state=1)\n",
    "    return X, y\n",
    "\n",
    "# retrieve the model to be evaluate\n",
    "def get_model():\n",
    "    model = LogisticRegression()\n",
    "    return model\n",
    "\n",
    "# evaluate the model using a given test condition\n",
    "def evaluate_model(cv):\n",
    "    # get the dataset\n",
    "    X, y = get_dataset()\n",
    "    # get the model\n",
    "    model = get_model()\n",
    "    # evaluate the model\n",
    "    scores = cross_val_score(model, X, y, scoring='accuracy', cv=cv, n_jobs=-1)\n",
    "    # return scores\n",
    "    return mean(scores), scores.min(), scores.max()\n",
    "\n",
    "# calculate the ideal test condition\n",
    "ideal, _, _ = evaluate_model(LeaveOneOut())\n",
    "print('Ideal: %.3f' % ideal)\n",
    "# define folds to test\n",
    "folds = range(2,31)\n",
    "# record mean and min/max of each set of results\n",
    "means, mins, maxs = list(),list(),list()\n",
    "# evaluate each k value\n",
    "for k in folds:\n",
    "    # define the test condition\n",
    "    cv = KFold(n_splits=k, shuffle=True, random_state=1)\n",
    "    # evaluate k value\n",
    "    k_mean, k_min, k_max = evaluate_model(cv)\n",
    "    # report performance\n",
    "    print('> folds=%d, accuracy=%.3f (%.3f,%.3f)' % (k, k_mean, k_min, k_max))\n",
    "    # store mean accuracy\n",
    "    means.append(k_mean)\n",
    "    # store min and max relative to the mean\n",
    "    mins.append(k_mean - k_min)\n",
    "    maxs.append(k_max - k_mean)\n",
    "# line plot of k mean values with min/max error bars\n",
    "pyplot.errorbar(folds, means, yerr=[mins, maxs], fmt='o')\n",
    "# plot the ideal case in a separate color\n",
    "pyplot.plot(folds, [ideal for _ in range(len(folds))], color='r')\n",
    "# show the plot\n",
    "pyplot.show()"
   ]
  },
  {
   "cell_type": "code",
   "execution_count": 46,
   "metadata": {},
   "outputs": [
    {
     "data": {
      "text/plain": [
       "{'fit_time': array([0.00401545, 0.00099707, 0.00199509]),\n",
       " 'score_time': array([0.00099707, 0.0012958 , 0.        ]),\n",
       " 'test_score': array([0.33150734, 0.08022311, 0.03531764])}"
      ]
     },
     "execution_count": 46,
     "metadata": {},
     "output_type": "execute_result"
    }
   ],
   "source": [
    ">>> from sklearn import datasets, linear_model\n",
    ">>> from sklearn.model_selection import cross_val_predict, cross_validate\n",
    "from sklearn.metrics import r2_score\n",
    ">>> diabetes = datasets.load_diabetes()\n",
    ">>> X = diabetes.data[:150]\n",
    ">>> y = diabetes.target[:150]\n",
    ">>> lasso = linear_model.Lasso()\n",
    ">>> score = cross_validate(lasso, X, y, cv=3)\n",
    "\n",
    "# r2_score(y, y_pred)\n",
    "score"
   ]
  },
  {
   "cell_type": "code",
   "execution_count": 44,
   "metadata": {},
   "outputs": [
    {
     "data": {
      "text/plain": [
       "(array([174.26933996, 117.6539241 , 164.60228641, 155.65049088,\n",
       "        132.68647979, 128.49511245, 120.76146877, 141.069413  ,\n",
       "        164.18904498, 182.37394949, 111.04181265, 127.94311443,\n",
       "        135.0869234 , 162.83066014, 135.3573514 , 157.64516523,\n",
       "        178.95843326, 163.3919841 , 143.85237903, 144.29748882,\n",
       "        133.58117218, 124.77928571, 132.90918003, 208.52927   ,\n",
       "        153.61908967, 154.16616341, 118.95351821, 163.50467541,\n",
       "        145.89406196, 168.3308101 , 155.87411031, 123.45960148,\n",
       "        185.70459144, 133.38468582, 117.2789469 , 150.27895019,\n",
       "        174.1541028 , 160.03235091, 192.31389633, 161.58568256,\n",
       "        154.2224809 , 119.35517679, 146.15706413, 133.82056934,\n",
       "        179.68118754, 137.96619936, 146.07788398, 126.77579723,\n",
       "        123.32101099, 166.26710247, 146.41559964, 161.67261029,\n",
       "        147.47731459, 138.44595305, 144.85421048, 113.77990664,\n",
       "        185.54970402, 115.31624749, 142.23672103, 171.07792136,\n",
       "        132.5394716 , 177.80524864, 116.5616502 , 134.25230846,\n",
       "        142.88707475, 173.2830912 , 154.31273504, 149.16680759,\n",
       "        144.88238997, 121.97783103, 110.38457621, 180.25559631,\n",
       "        199.06141058, 151.1195546 , 161.14217698, 153.96960812,\n",
       "        150.77179755, 113.30903579, 165.15755771, 115.85735727,\n",
       "        174.19267171, 150.12027233, 115.47891783, 153.38967232,\n",
       "        115.31573467, 156.49909623,  92.62211515, 178.15649994,\n",
       "        131.59320715, 134.46166754, 116.97678633, 190.00790119,\n",
       "        166.01173292, 126.25944471, 134.29256991, 144.71971963,\n",
       "        190.9769591 , 182.39199466, 154.45325308, 148.30325558,\n",
       "        151.72036937, 124.12825466, 138.6011155 , 137.75891286,\n",
       "        123.0917243 , 131.74735403, 112.07367481, 124.56956904,\n",
       "        156.78432061, 128.63135591,  93.68260079, 130.54324394,\n",
       "        131.8693231 , 154.5708257 , 179.81343019, 165.78130755,\n",
       "        150.04779033, 162.37974736, 143.92996797, 143.15645843,\n",
       "        125.20161377, 145.99590279, 155.3505536 , 145.97574185,\n",
       "        134.66120515, 163.92450638, 101.92329396, 139.33014324,\n",
       "        122.71377023, 152.20573113, 153.36931089, 116.76545147,\n",
       "        131.96936127, 109.74817383, 132.57453994, 159.38030328,\n",
       "        109.31343881, 147.69926269, 156.3664255 , 161.12509958,\n",
       "        128.16523686, 156.78446286, 154.04375702, 124.83705022,\n",
       "        143.85606595, 143.23651701, 147.76316913, 154.21572891,\n",
       "        129.07895017, 157.79644923]),\n",
       " array([151.,  75., 141., 206., 135.,  97., 138.,  63., 110., 310., 101.,\n",
       "         69., 179., 185., 118., 171., 166., 144.,  97., 168.,  68.,  49.,\n",
       "         68., 245., 184., 202., 137.,  85., 131., 283., 129.,  59., 341.,\n",
       "         87.,  65., 102., 265., 276., 252.,  90., 100.,  55.,  61.,  92.,\n",
       "        259.,  53., 190., 142.,  75., 142., 155., 225.,  59., 104., 182.,\n",
       "        128.,  52.,  37., 170., 170.,  61., 144.,  52., 128.,  71., 163.,\n",
       "        150.,  97., 160., 178.,  48., 270., 202., 111.,  85.,  42., 170.,\n",
       "        200., 252., 113., 143.,  51.,  52., 210.,  65., 141.,  55., 134.,\n",
       "         42., 111.,  98., 164.,  48.,  96.,  90., 162., 150., 279.,  92.,\n",
       "         83., 128., 102., 302., 198.,  95.,  53., 134., 144., 232.,  81.,\n",
       "        104.,  59., 246., 297., 258., 229., 275., 281., 179., 200., 200.,\n",
       "        173., 180.,  84., 121., 161.,  99., 109., 115., 268., 274., 158.,\n",
       "        107.,  83., 103., 272.,  85., 280., 336., 281., 118., 317., 235.,\n",
       "         60., 174., 259., 178., 128.,  96., 126.]))"
      ]
     },
     "execution_count": 44,
     "metadata": {},
     "output_type": "execute_result"
    }
   ],
   "source": [
    "y_pred, y"
   ]
  },
  {
   "cell_type": "code",
   "execution_count": null,
   "metadata": {},
   "outputs": [],
   "source": []
  }
 ],
 "metadata": {
  "kernelspec": {
   "display_name": "Python 3",
   "language": "python",
   "name": "python3"
  },
  "language_info": {
   "codemirror_mode": {
    "name": "ipython",
    "version": 3
   },
   "file_extension": ".py",
   "mimetype": "text/x-python",
   "name": "python",
   "nbconvert_exporter": "python",
   "pygments_lexer": "ipython3",
   "version": "3.7.9"
  }
 },
 "nbformat": 4,
 "nbformat_minor": 4
}
